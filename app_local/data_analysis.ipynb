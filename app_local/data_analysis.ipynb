{
 "cells": [
  {
   "cell_type": "code",
   "execution_count": 92,
   "metadata": {},
   "outputs": [],
   "source": [
    "import pandas as pd\n",
    "import plotly.graph_objects as go\n",
    "import plotly.express as px"
   ]
  },
  {
   "cell_type": "code",
   "execution_count": 93,
   "metadata": {},
   "outputs": [],
   "source": [
    "import pandas as pd\n",
    "import s3fs\n",
    "df = pd.read_csv('s3://proyectocanopy/alarma_transparencia.csv')"
   ]
  },
  {
   "cell_type": "code",
   "execution_count": 5,
   "metadata": {},
   "outputs": [
    {
     "data": {
      "text/plain": [
       "(22725, 18)"
      ]
     },
     "execution_count": 5,
     "metadata": {},
     "output_type": "execute_result"
    }
   ],
   "source": [
    "df.shape"
   ]
  },
  {
   "cell_type": "markdown",
   "metadata": {},
   "source": [
    "# Transparencia"
   ]
  },
  {
   "cell_type": "code",
   "execution_count": 44,
   "metadata": {},
   "outputs": [
    {
     "data": {
      "text/html": [
       "<div>\n",
       "<style scoped>\n",
       "    .dataframe tbody tr th:only-of-type {\n",
       "        vertical-align: middle;\n",
       "    }\n",
       "\n",
       "    .dataframe tbody tr th {\n",
       "        vertical-align: top;\n",
       "    }\n",
       "\n",
       "    .dataframe thead th {\n",
       "        text-align: right;\n",
       "    }\n",
       "</style>\n",
       "<table border=\"1\" class=\"dataframe\">\n",
       "  <thead>\n",
       "    <tr style=\"text-align: right;\">\n",
       "      <th></th>\n",
       "      <th>Unnamed: 0</th>\n",
       "      <th>Unnamed: 0.1</th>\n",
       "      <th>ids</th>\n",
       "      <th>fechas</th>\n",
       "      <th>regiones</th>\n",
       "      <th>departamento</th>\n",
       "      <th>municipio</th>\n",
       "      <th>entidades</th>\n",
       "      <th>contratista_ids</th>\n",
       "      <th>contratista_name</th>\n",
       "      <th>valores</th>\n",
       "      <th>detalles</th>\n",
       "      <th>reporta_parties</th>\n",
       "      <th>reporta_planning</th>\n",
       "      <th>uri</th>\n",
       "      <th>plataforma</th>\n",
       "      <th>reporta_items</th>\n",
       "      <th>departamento_def</th>\n",
       "    </tr>\n",
       "  </thead>\n",
       "  <tbody>\n",
       "    <tr>\n",
       "      <th>0</th>\n",
       "      <td>0</td>\n",
       "      <td>98</td>\n",
       "      <td>20-12-10962842</td>\n",
       "      <td>2020-07-28T15:54:33.000Z</td>\n",
       "      <td>ARAUCA</td>\n",
       "      <td>Arauca</td>\n",
       "      <td>ARAUCA</td>\n",
       "      <td>ARAUCA - UNIDAD ADMINISTRATIVA ESPECIAL DE SAL...</td>\n",
       "      <td>111677609</td>\n",
       "      <td>RUIZ BARCO SOFIA SAHARAY</td>\n",
       "      <td>7189350.0</td>\n",
       "      <td>PRESTACION DE SERVICIOS  AUXILIARES COMO APOYO...</td>\n",
       "      <td>SI_REPORTA</td>\n",
       "      <td>SI_REPORTA</td>\n",
       "      <td>https://www.contratos.gov.co/consultas/detalle...</td>\n",
       "      <td>SECOPI</td>\n",
       "      <td>SI_REPORTA</td>\n",
       "      <td>arauca</td>\n",
       "    </tr>\n",
       "    <tr>\n",
       "      <th>1</th>\n",
       "      <td>1</td>\n",
       "      <td>140</td>\n",
       "      <td>20-12-10977749</td>\n",
       "      <td>2020-08-03T06:43:56.000Z</td>\n",
       "      <td>NARIÑO</td>\n",
       "      <td>Nariño</td>\n",
       "      <td>BARBACOAS</td>\n",
       "      <td>NARIÑO - BARBACOAS - ALCALDIA</td>\n",
       "      <td>94534533</td>\n",
       "      <td>SILVIO RUA QUIÑONES</td>\n",
       "      <td>1200000.0</td>\n",
       "      <td>BRINDAR APOYO COMO AUXILIAR OPERATIVO DE LA AL...</td>\n",
       "      <td>SI_REPORTA</td>\n",
       "      <td>SI_REPORTA</td>\n",
       "      <td>https://www.contratos.gov.co/consultas/detalle...</td>\n",
       "      <td>SECOPI</td>\n",
       "      <td>SI_REPORTA</td>\n",
       "      <td>nariño</td>\n",
       "    </tr>\n",
       "    <tr>\n",
       "      <th>2</th>\n",
       "      <td>2</td>\n",
       "      <td>247</td>\n",
       "      <td>20-4-10903430</td>\n",
       "      <td>2020-07-07T17:21:03.000Z</td>\n",
       "      <td>SANTANDER</td>\n",
       "      <td>NaN</td>\n",
       "      <td>NaN</td>\n",
       "      <td>SANTANDER - COLEGIO INTEGRADO NUESTRA SEÑORA D...</td>\n",
       "      <td>900579939</td>\n",
       "      <td>SOLUCIONES &amp; TECNOLOGIA SAS</td>\n",
       "      <td>9486000.0</td>\n",
       "      <td>INSUMOS DE FOTOCOPIADORA, Y SUMINISTRO INTEGRA...</td>\n",
       "      <td>SI_REPORTA</td>\n",
       "      <td>SI_REPORTA</td>\n",
       "      <td>https://www.contratos.gov.co/consultas/detalle...</td>\n",
       "      <td>SECOPI</td>\n",
       "      <td>SI_REPORTA</td>\n",
       "      <td>NaN</td>\n",
       "    </tr>\n",
       "    <tr>\n",
       "      <th>3</th>\n",
       "      <td>3</td>\n",
       "      <td>326</td>\n",
       "      <td>20-12-10903397</td>\n",
       "      <td>2020-07-07T17:13:18.000Z</td>\n",
       "      <td>BOLIVAR</td>\n",
       "      <td>Bolívar</td>\n",
       "      <td>SAN MARTÍN DE LOBA</td>\n",
       "      <td>BOLIVAR - SAN MARTIN DE LOBA - ALCALDIA</td>\n",
       "      <td>23106451</td>\n",
       "      <td>MAVELIS BANDERA BELAIDES</td>\n",
       "      <td>7500000.0</td>\n",
       "      <td>Prestación de servicios de Auxiliar de Enferme...</td>\n",
       "      <td>SI_REPORTA</td>\n",
       "      <td>SI_REPORTA</td>\n",
       "      <td>https://www.contratos.gov.co/consultas/detalle...</td>\n",
       "      <td>SECOPI</td>\n",
       "      <td>SI_REPORTA</td>\n",
       "      <td>bolívar</td>\n",
       "    </tr>\n",
       "    <tr>\n",
       "      <th>4</th>\n",
       "      <td>4</td>\n",
       "      <td>339</td>\n",
       "      <td>20-11-10875699</td>\n",
       "      <td>2020-06-30T10:38:07.000Z</td>\n",
       "      <td>BOGOTÁ D.C.</td>\n",
       "      <td>Bogotá D.C.</td>\n",
       "      <td>Bogotá D.C.</td>\n",
       "      <td>BOGOTÁ D.C. - IED. COLEGIO GABRIEL BETANCOURT ...</td>\n",
       "      <td>900682841</td>\n",
       "      <td>EDUCACTIVA SAS</td>\n",
       "      <td>59937000.0</td>\n",
       "      <td>COMPRA DE CARTILLAS   GRADOS DE   JARDIN A QUI...</td>\n",
       "      <td>SI_REPORTA</td>\n",
       "      <td>SI_REPORTA</td>\n",
       "      <td>https://www.contratos.gov.co/consultas/detalle...</td>\n",
       "      <td>SECOPI</td>\n",
       "      <td>SI_REPORTA</td>\n",
       "      <td>bogotá</td>\n",
       "    </tr>\n",
       "  </tbody>\n",
       "</table>\n",
       "</div>"
      ],
      "text/plain": [
       "   Unnamed: 0  Unnamed: 0.1             ids                    fechas  \\\n",
       "0           0            98  20-12-10962842  2020-07-28T15:54:33.000Z   \n",
       "1           1           140  20-12-10977749  2020-08-03T06:43:56.000Z   \n",
       "2           2           247   20-4-10903430  2020-07-07T17:21:03.000Z   \n",
       "3           3           326  20-12-10903397  2020-07-07T17:13:18.000Z   \n",
       "4           4           339  20-11-10875699  2020-06-30T10:38:07.000Z   \n",
       "\n",
       "      regiones departamento           municipio  \\\n",
       "0       ARAUCA       Arauca              ARAUCA   \n",
       "1       NARIÑO       Nariño           BARBACOAS   \n",
       "2    SANTANDER          NaN                 NaN   \n",
       "3      BOLIVAR      Bolívar  SAN MARTÍN DE LOBA   \n",
       "4  BOGOTÁ D.C.  Bogotá D.C.         Bogotá D.C.   \n",
       "\n",
       "                                           entidades contratista_ids  \\\n",
       "0  ARAUCA - UNIDAD ADMINISTRATIVA ESPECIAL DE SAL...       111677609   \n",
       "1                      NARIÑO - BARBACOAS - ALCALDIA        94534533   \n",
       "2  SANTANDER - COLEGIO INTEGRADO NUESTRA SEÑORA D...       900579939   \n",
       "3            BOLIVAR - SAN MARTIN DE LOBA - ALCALDIA        23106451   \n",
       "4  BOGOTÁ D.C. - IED. COLEGIO GABRIEL BETANCOURT ...       900682841   \n",
       "\n",
       "              contratista_name     valores  \\\n",
       "0     RUIZ BARCO SOFIA SAHARAY   7189350.0   \n",
       "1          SILVIO RUA QUIÑONES   1200000.0   \n",
       "2  SOLUCIONES & TECNOLOGIA SAS   9486000.0   \n",
       "3     MAVELIS BANDERA BELAIDES   7500000.0   \n",
       "4               EDUCACTIVA SAS  59937000.0   \n",
       "\n",
       "                                            detalles reporta_parties  \\\n",
       "0  PRESTACION DE SERVICIOS  AUXILIARES COMO APOYO...      SI_REPORTA   \n",
       "1  BRINDAR APOYO COMO AUXILIAR OPERATIVO DE LA AL...      SI_REPORTA   \n",
       "2  INSUMOS DE FOTOCOPIADORA, Y SUMINISTRO INTEGRA...      SI_REPORTA   \n",
       "3  Prestación de servicios de Auxiliar de Enferme...      SI_REPORTA   \n",
       "4  COMPRA DE CARTILLAS   GRADOS DE   JARDIN A QUI...      SI_REPORTA   \n",
       "\n",
       "  reporta_planning                                                uri  \\\n",
       "0       SI_REPORTA  https://www.contratos.gov.co/consultas/detalle...   \n",
       "1       SI_REPORTA  https://www.contratos.gov.co/consultas/detalle...   \n",
       "2       SI_REPORTA  https://www.contratos.gov.co/consultas/detalle...   \n",
       "3       SI_REPORTA  https://www.contratos.gov.co/consultas/detalle...   \n",
       "4       SI_REPORTA  https://www.contratos.gov.co/consultas/detalle...   \n",
       "\n",
       "  plataforma reporta_items departamento_def  \n",
       "0     SECOPI    SI_REPORTA           arauca  \n",
       "1     SECOPI    SI_REPORTA           nariño  \n",
       "2     SECOPI    SI_REPORTA              NaN  \n",
       "3     SECOPI    SI_REPORTA          bolívar  \n",
       "4     SECOPI    SI_REPORTA           bogotá  "
      ]
     },
     "execution_count": 44,
     "metadata": {},
     "output_type": "execute_result"
    }
   ],
   "source": [
    "df_transparency = pd.read_csv('s3://proyectocanopy/alarma_transparencia.csv')\n",
    "df_transparency.head()"
   ]
  },
  {
   "cell_type": "code",
   "execution_count": 45,
   "metadata": {},
   "outputs": [
    {
     "name": "stderr",
     "output_type": "stream",
     "text": [
      "/Users/lmontesmarti/Documents/GitHub/canopy-demo/venv/lib/python3.7/site-packages/pandas/core/arrays/datetimes.py:1091: UserWarning: Converting to PeriodArray/Index representation will drop timezone information.\n",
      "  UserWarning,\n"
     ]
    }
   ],
   "source": [
    "# Creating alarm variables\n",
    "df_transparency['has_alarm'] = (df_transparency['reporta_items']!='SI_REPORTA')\n",
    "# Filtering\n",
    "df_transparency = df_transparency[df_transparency['has_alarm']]\n",
    "\n",
    "# Formatting with $ \n",
    "df_transparency['valores'] = pd.to_numeric(df_transparency['valores'], errors='coerce')\n",
    "df_transparency['valores'] = df_transparency['valores'].map('${:,.0f}'.format)\n",
    "# Formatting descripcion\n",
    "df_transparency['detalles'] = df_transparency['detalles'].str.capitalize()\n",
    "# Formatting fechas with only date\n",
    "df_transparency['date'] = pd.to_datetime(df_transparency['fechas']).dt.date\n",
    "# Getting dates' month\n",
    "df_transparency['month'] =pd.to_datetime(df_transparency['fechas']).dt.to_period(\"M\")\n",
    "# Capitalizing names of columns\n",
    "df_transparency['municipio'] = df_transparency['municipio'].str.title()\n",
    "df_transparency['departamento'] = df_transparency['departamento'].str.title()\n",
    "df_transparency['contratista_name'] = df_transparency['contratista_name'].str.title()\n",
    "\n",
    "df_transparency = df_transparency.rename(columns={\n",
    "    'entidades': 'Nombre de la entidad',\n",
    "    'departamento': 'Departamento',\n",
    "    'municipio': 'Municipio',\n",
    "    'date': 'Fecha del contrato',\n",
    "    'detalles': 'Descripcion del contrato',\n",
    "    'contratista_name': 'Proveedor adjudicado',\n",
    "    'contratista_ids': 'ID Proveedor',\n",
    "    'uri': 'SECOP URL',\n",
    "    'valores': 'Valor del contrato',\n",
    "    'month': 'Mes del contrato'\n",
    "})\n",
    "\n",
    "df_transparency_final = df_transparency[[ 'Fecha del contrato', 'Departamento', 'Municipio', \n",
    "                                   'Nombre de la entidad', 'Proveedor adjudicado', \n",
    "                                    'ID Proveedor', 'Valor del contrato',\n",
    "                                     'Descripcion del contrato',  'SECOP URL']]\n",
    "df_transparency_final = df_transparency_final.sort_values(by='Fecha del contrato', ascending=False)"
   ]
  },
  {
   "cell_type": "code",
   "execution_count": 46,
   "metadata": {},
   "outputs": [
    {
     "data": {
      "text/html": [
       "<div>\n",
       "<style scoped>\n",
       "    .dataframe tbody tr th:only-of-type {\n",
       "        vertical-align: middle;\n",
       "    }\n",
       "\n",
       "    .dataframe tbody tr th {\n",
       "        vertical-align: top;\n",
       "    }\n",
       "\n",
       "    .dataframe thead th {\n",
       "        text-align: right;\n",
       "    }\n",
       "</style>\n",
       "<table border=\"1\" class=\"dataframe\">\n",
       "  <thead>\n",
       "    <tr style=\"text-align: right;\">\n",
       "      <th></th>\n",
       "      <th>Fecha del contrato</th>\n",
       "      <th>Departamento</th>\n",
       "      <th>Municipio</th>\n",
       "      <th>Nombre de la entidad</th>\n",
       "      <th>Proveedor adjudicado</th>\n",
       "      <th>ID Proveedor</th>\n",
       "      <th>Valor del contrato</th>\n",
       "      <th>Descripcion del contrato</th>\n",
       "      <th>SECOP URL</th>\n",
       "    </tr>\n",
       "  </thead>\n",
       "  <tbody>\n",
       "    <tr>\n",
       "      <th>18725</th>\n",
       "      <td>2020-07-05</td>\n",
       "      <td>Tolima</td>\n",
       "      <td>Ibagué</td>\n",
       "      <td>TOLIMA - UNIVERSIDAD DEL TOLIMA</td>\n",
       "      <td>Hamilton Julian Barbosa Vinasco</td>\n",
       "      <td>111052812</td>\n",
       "      <td>$8,000,000</td>\n",
       "      <td>Apoyo a la gestión para procesar las diferente...</td>\n",
       "      <td>https://www.contratos.gov.co/consultas/detalle...</td>\n",
       "    </tr>\n",
       "    <tr>\n",
       "      <th>3351</th>\n",
       "      <td>2020-06-18</td>\n",
       "      <td>NaN</td>\n",
       "      <td>NaN</td>\n",
       "      <td>RISARALDA - INSTITUCION EDUCATIVA RODRIGO AREN...</td>\n",
       "      <td>Luisa Fernanda Marin Zuluaga</td>\n",
       "      <td>100471954</td>\n",
       "      <td>$11,260,000</td>\n",
       "      <td>Suministrar, dos computadores todo en uno leno...</td>\n",
       "      <td>https://www.contratos.gov.co/consultas/detalle...</td>\n",
       "    </tr>\n",
       "    <tr>\n",
       "      <th>16740</th>\n",
       "      <td>2020-05-26</td>\n",
       "      <td>Nariño</td>\n",
       "      <td>Ipiales</td>\n",
       "      <td>NARIÑO - IPIALES - ALCALDIA</td>\n",
       "      <td>Alba Susana Timaran Tibata</td>\n",
       "      <td>108590121</td>\n",
       "      <td>$11,811,282</td>\n",
       "      <td>Prestación de servicios profesionales de enfer...</td>\n",
       "      <td>NaN</td>\n",
       "    </tr>\n",
       "    <tr>\n",
       "      <th>16755</th>\n",
       "      <td>2020-05-26</td>\n",
       "      <td>Antioquia</td>\n",
       "      <td>Girardota</td>\n",
       "      <td>ANTIOQUIA - GIRARDOTA - ALCALDIA</td>\n",
       "      <td>Luis Fernando Castaño Orozco</td>\n",
       "      <td>71646152</td>\n",
       "      <td>$12,000,000</td>\n",
       "      <td>Prestación de servicios profesionales y de a`p...</td>\n",
       "      <td>NaN</td>\n",
       "    </tr>\n",
       "    <tr>\n",
       "      <th>3546</th>\n",
       "      <td>2020-05-26</td>\n",
       "      <td>Bolívar</td>\n",
       "      <td>Arjona</td>\n",
       "      <td>BOLIVAR - ESE HOSPITAL LOCAL ARJONA</td>\n",
       "      <td>Alvaro Alfonso Arrieta Perez</td>\n",
       "      <td>9097905</td>\n",
       "      <td>$11,638,413</td>\n",
       "      <td>Adición del contrato  de obra para la adecuaci...</td>\n",
       "      <td>NaN</td>\n",
       "    </tr>\n",
       "  </tbody>\n",
       "</table>\n",
       "</div>"
      ],
      "text/plain": [
       "      Fecha del contrato Departamento  Municipio  \\\n",
       "18725         2020-07-05       Tolima     Ibagué   \n",
       "3351          2020-06-18          NaN        NaN   \n",
       "16740         2020-05-26       Nariño    Ipiales   \n",
       "16755         2020-05-26    Antioquia  Girardota   \n",
       "3546          2020-05-26      Bolívar     Arjona   \n",
       "\n",
       "                                    Nombre de la entidad  \\\n",
       "18725                    TOLIMA - UNIVERSIDAD DEL TOLIMA   \n",
       "3351   RISARALDA - INSTITUCION EDUCATIVA RODRIGO AREN...   \n",
       "16740                        NARIÑO - IPIALES - ALCALDIA   \n",
       "16755                   ANTIOQUIA - GIRARDOTA - ALCALDIA   \n",
       "3546                 BOLIVAR - ESE HOSPITAL LOCAL ARJONA   \n",
       "\n",
       "                  Proveedor adjudicado ID Proveedor Valor del contrato  \\\n",
       "18725  Hamilton Julian Barbosa Vinasco    111052812         $8,000,000   \n",
       "3351      Luisa Fernanda Marin Zuluaga    100471954        $11,260,000   \n",
       "16740       Alba Susana Timaran Tibata    108590121        $11,811,282   \n",
       "16755     Luis Fernando Castaño Orozco     71646152        $12,000,000   \n",
       "3546      Alvaro Alfonso Arrieta Perez      9097905        $11,638,413   \n",
       "\n",
       "                                Descripcion del contrato  \\\n",
       "18725  Apoyo a la gestión para procesar las diferente...   \n",
       "3351   Suministrar, dos computadores todo en uno leno...   \n",
       "16740  Prestación de servicios profesionales de enfer...   \n",
       "16755  Prestación de servicios profesionales y de a`p...   \n",
       "3546   Adición del contrato  de obra para la adecuaci...   \n",
       "\n",
       "                                               SECOP URL  \n",
       "18725  https://www.contratos.gov.co/consultas/detalle...  \n",
       "3351   https://www.contratos.gov.co/consultas/detalle...  \n",
       "16740                                                NaN  \n",
       "16755                                                NaN  \n",
       "3546                                                 NaN  "
      ]
     },
     "execution_count": 46,
     "metadata": {},
     "output_type": "execute_result"
    }
   ],
   "source": [
    "df_transparency_final.head()"
   ]
  },
  {
   "cell_type": "code",
   "execution_count": 48,
   "metadata": {},
   "outputs": [
    {
     "name": "stdout",
     "output_type": "stream",
     "text": [
      "10259\n",
      "10261\n"
     ]
    }
   ],
   "source": [
    "print(df_transparency_final['SECOP URL'].isna().sum())\n",
    "print(len(df_transparency_final))"
   ]
  },
  {
   "cell_type": "markdown",
   "metadata": {},
   "source": [
    "## Graph for transparency"
   ]
  },
  {
   "cell_type": "code",
   "execution_count": 50,
   "metadata": {},
   "outputs": [
    {
     "data": {
      "text/html": [
       "<div>\n",
       "<style scoped>\n",
       "    .dataframe tbody tr th:only-of-type {\n",
       "        vertical-align: middle;\n",
       "    }\n",
       "\n",
       "    .dataframe tbody tr th {\n",
       "        vertical-align: top;\n",
       "    }\n",
       "\n",
       "    .dataframe thead th {\n",
       "        text-align: right;\n",
       "    }\n",
       "</style>\n",
       "<table border=\"1\" class=\"dataframe\">\n",
       "  <thead>\n",
       "    <tr style=\"text-align: right;\">\n",
       "      <th></th>\n",
       "      <th>Mes del contrato</th>\n",
       "      <th>Num contratos</th>\n",
       "    </tr>\n",
       "  </thead>\n",
       "  <tbody>\n",
       "    <tr>\n",
       "      <th>0</th>\n",
       "      <td>2020-01</td>\n",
       "      <td>45</td>\n",
       "    </tr>\n",
       "    <tr>\n",
       "      <th>1</th>\n",
       "      <td>2020-02</td>\n",
       "      <td>69</td>\n",
       "    </tr>\n",
       "    <tr>\n",
       "      <th>2</th>\n",
       "      <td>2020-03</td>\n",
       "      <td>1298</td>\n",
       "    </tr>\n",
       "    <tr>\n",
       "      <th>3</th>\n",
       "      <td>2020-04</td>\n",
       "      <td>5708</td>\n",
       "    </tr>\n",
       "    <tr>\n",
       "      <th>4</th>\n",
       "      <td>2020-05</td>\n",
       "      <td>3139</td>\n",
       "    </tr>\n",
       "    <tr>\n",
       "      <th>5</th>\n",
       "      <td>2020-06</td>\n",
       "      <td>1</td>\n",
       "    </tr>\n",
       "    <tr>\n",
       "      <th>6</th>\n",
       "      <td>2020-07</td>\n",
       "      <td>1</td>\n",
       "    </tr>\n",
       "  </tbody>\n",
       "</table>\n",
       "</div>"
      ],
      "text/plain": [
       "  Mes del contrato  Num contratos\n",
       "0          2020-01             45\n",
       "1          2020-02             69\n",
       "2          2020-03           1298\n",
       "3          2020-04           5708\n",
       "4          2020-05           3139\n",
       "5          2020-06              1\n",
       "6          2020-07              1"
      ]
     },
     "execution_count": 50,
     "metadata": {},
     "output_type": "execute_result"
    }
   ],
   "source": [
    "graph_df = df_transparency.groupby(['Mes del contrato']).size().reset_index(name='Num contratos')\n",
    "# graph_df = graph_df.pivot_table(index='Mes del contrato', columns='Razón alarma', values='Num contracts')\n",
    "graph_df"
   ]
  },
  {
   "cell_type": "code",
   "execution_count": 52,
   "metadata": {},
   "outputs": [
    {
     "data": {
      "application/vnd.plotly.v1+json": {
       "config": {
        "plotlyServerURL": "https://plot.ly"
       },
       "data": [
        {
         "type": "bar",
         "x": [
          "2020-01",
          "2020-02",
          "2020-03",
          "2020-04",
          "2020-05",
          "2020-06",
          "2020-07"
         ],
         "y": [
          45,
          69,
          1298,
          5708,
          3139,
          1,
          1
         ]
        }
       ],
       "layout": {
        "font": {
         "color": "#252525",
         "family": "Roboto"
        },
        "margin": {
         "b": 0,
         "l": 0,
         "r": 0,
         "t": 0
        },
        "paper_bgcolor": "rgba(0,0,0,0)",
        "plot_bgcolor": "rgba(0,0,0,0)",
        "template": {
         "data": {
          "bar": [
           {
            "error_x": {
             "color": "#2a3f5f"
            },
            "error_y": {
             "color": "#2a3f5f"
            },
            "marker": {
             "line": {
              "color": "#E5ECF6",
              "width": 0.5
             }
            },
            "type": "bar"
           }
          ],
          "barpolar": [
           {
            "marker": {
             "line": {
              "color": "#E5ECF6",
              "width": 0.5
             }
            },
            "type": "barpolar"
           }
          ],
          "carpet": [
           {
            "aaxis": {
             "endlinecolor": "#2a3f5f",
             "gridcolor": "white",
             "linecolor": "white",
             "minorgridcolor": "white",
             "startlinecolor": "#2a3f5f"
            },
            "baxis": {
             "endlinecolor": "#2a3f5f",
             "gridcolor": "white",
             "linecolor": "white",
             "minorgridcolor": "white",
             "startlinecolor": "#2a3f5f"
            },
            "type": "carpet"
           }
          ],
          "choropleth": [
           {
            "colorbar": {
             "outlinewidth": 0,
             "ticks": ""
            },
            "type": "choropleth"
           }
          ],
          "contour": [
           {
            "colorbar": {
             "outlinewidth": 0,
             "ticks": ""
            },
            "colorscale": [
             [
              0,
              "#0d0887"
             ],
             [
              0.1111111111111111,
              "#46039f"
             ],
             [
              0.2222222222222222,
              "#7201a8"
             ],
             [
              0.3333333333333333,
              "#9c179e"
             ],
             [
              0.4444444444444444,
              "#bd3786"
             ],
             [
              0.5555555555555556,
              "#d8576b"
             ],
             [
              0.6666666666666666,
              "#ed7953"
             ],
             [
              0.7777777777777778,
              "#fb9f3a"
             ],
             [
              0.8888888888888888,
              "#fdca26"
             ],
             [
              1,
              "#f0f921"
             ]
            ],
            "type": "contour"
           }
          ],
          "contourcarpet": [
           {
            "colorbar": {
             "outlinewidth": 0,
             "ticks": ""
            },
            "type": "contourcarpet"
           }
          ],
          "heatmap": [
           {
            "colorbar": {
             "outlinewidth": 0,
             "ticks": ""
            },
            "colorscale": [
             [
              0,
              "#0d0887"
             ],
             [
              0.1111111111111111,
              "#46039f"
             ],
             [
              0.2222222222222222,
              "#7201a8"
             ],
             [
              0.3333333333333333,
              "#9c179e"
             ],
             [
              0.4444444444444444,
              "#bd3786"
             ],
             [
              0.5555555555555556,
              "#d8576b"
             ],
             [
              0.6666666666666666,
              "#ed7953"
             ],
             [
              0.7777777777777778,
              "#fb9f3a"
             ],
             [
              0.8888888888888888,
              "#fdca26"
             ],
             [
              1,
              "#f0f921"
             ]
            ],
            "type": "heatmap"
           }
          ],
          "heatmapgl": [
           {
            "colorbar": {
             "outlinewidth": 0,
             "ticks": ""
            },
            "colorscale": [
             [
              0,
              "#0d0887"
             ],
             [
              0.1111111111111111,
              "#46039f"
             ],
             [
              0.2222222222222222,
              "#7201a8"
             ],
             [
              0.3333333333333333,
              "#9c179e"
             ],
             [
              0.4444444444444444,
              "#bd3786"
             ],
             [
              0.5555555555555556,
              "#d8576b"
             ],
             [
              0.6666666666666666,
              "#ed7953"
             ],
             [
              0.7777777777777778,
              "#fb9f3a"
             ],
             [
              0.8888888888888888,
              "#fdca26"
             ],
             [
              1,
              "#f0f921"
             ]
            ],
            "type": "heatmapgl"
           }
          ],
          "histogram": [
           {
            "marker": {
             "colorbar": {
              "outlinewidth": 0,
              "ticks": ""
             }
            },
            "type": "histogram"
           }
          ],
          "histogram2d": [
           {
            "colorbar": {
             "outlinewidth": 0,
             "ticks": ""
            },
            "colorscale": [
             [
              0,
              "#0d0887"
             ],
             [
              0.1111111111111111,
              "#46039f"
             ],
             [
              0.2222222222222222,
              "#7201a8"
             ],
             [
              0.3333333333333333,
              "#9c179e"
             ],
             [
              0.4444444444444444,
              "#bd3786"
             ],
             [
              0.5555555555555556,
              "#d8576b"
             ],
             [
              0.6666666666666666,
              "#ed7953"
             ],
             [
              0.7777777777777778,
              "#fb9f3a"
             ],
             [
              0.8888888888888888,
              "#fdca26"
             ],
             [
              1,
              "#f0f921"
             ]
            ],
            "type": "histogram2d"
           }
          ],
          "histogram2dcontour": [
           {
            "colorbar": {
             "outlinewidth": 0,
             "ticks": ""
            },
            "colorscale": [
             [
              0,
              "#0d0887"
             ],
             [
              0.1111111111111111,
              "#46039f"
             ],
             [
              0.2222222222222222,
              "#7201a8"
             ],
             [
              0.3333333333333333,
              "#9c179e"
             ],
             [
              0.4444444444444444,
              "#bd3786"
             ],
             [
              0.5555555555555556,
              "#d8576b"
             ],
             [
              0.6666666666666666,
              "#ed7953"
             ],
             [
              0.7777777777777778,
              "#fb9f3a"
             ],
             [
              0.8888888888888888,
              "#fdca26"
             ],
             [
              1,
              "#f0f921"
             ]
            ],
            "type": "histogram2dcontour"
           }
          ],
          "mesh3d": [
           {
            "colorbar": {
             "outlinewidth": 0,
             "ticks": ""
            },
            "type": "mesh3d"
           }
          ],
          "parcoords": [
           {
            "line": {
             "colorbar": {
              "outlinewidth": 0,
              "ticks": ""
             }
            },
            "type": "parcoords"
           }
          ],
          "pie": [
           {
            "automargin": true,
            "type": "pie"
           }
          ],
          "scatter": [
           {
            "marker": {
             "colorbar": {
              "outlinewidth": 0,
              "ticks": ""
             }
            },
            "type": "scatter"
           }
          ],
          "scatter3d": [
           {
            "line": {
             "colorbar": {
              "outlinewidth": 0,
              "ticks": ""
             }
            },
            "marker": {
             "colorbar": {
              "outlinewidth": 0,
              "ticks": ""
             }
            },
            "type": "scatter3d"
           }
          ],
          "scattercarpet": [
           {
            "marker": {
             "colorbar": {
              "outlinewidth": 0,
              "ticks": ""
             }
            },
            "type": "scattercarpet"
           }
          ],
          "scattergeo": [
           {
            "marker": {
             "colorbar": {
              "outlinewidth": 0,
              "ticks": ""
             }
            },
            "type": "scattergeo"
           }
          ],
          "scattergl": [
           {
            "marker": {
             "colorbar": {
              "outlinewidth": 0,
              "ticks": ""
             }
            },
            "type": "scattergl"
           }
          ],
          "scattermapbox": [
           {
            "marker": {
             "colorbar": {
              "outlinewidth": 0,
              "ticks": ""
             }
            },
            "type": "scattermapbox"
           }
          ],
          "scatterpolar": [
           {
            "marker": {
             "colorbar": {
              "outlinewidth": 0,
              "ticks": ""
             }
            },
            "type": "scatterpolar"
           }
          ],
          "scatterpolargl": [
           {
            "marker": {
             "colorbar": {
              "outlinewidth": 0,
              "ticks": ""
             }
            },
            "type": "scatterpolargl"
           }
          ],
          "scatterternary": [
           {
            "marker": {
             "colorbar": {
              "outlinewidth": 0,
              "ticks": ""
             }
            },
            "type": "scatterternary"
           }
          ],
          "surface": [
           {
            "colorbar": {
             "outlinewidth": 0,
             "ticks": ""
            },
            "colorscale": [
             [
              0,
              "#0d0887"
             ],
             [
              0.1111111111111111,
              "#46039f"
             ],
             [
              0.2222222222222222,
              "#7201a8"
             ],
             [
              0.3333333333333333,
              "#9c179e"
             ],
             [
              0.4444444444444444,
              "#bd3786"
             ],
             [
              0.5555555555555556,
              "#d8576b"
             ],
             [
              0.6666666666666666,
              "#ed7953"
             ],
             [
              0.7777777777777778,
              "#fb9f3a"
             ],
             [
              0.8888888888888888,
              "#fdca26"
             ],
             [
              1,
              "#f0f921"
             ]
            ],
            "type": "surface"
           }
          ],
          "table": [
           {
            "cells": {
             "fill": {
              "color": "#EBF0F8"
             },
             "line": {
              "color": "white"
             }
            },
            "header": {
             "fill": {
              "color": "#C8D4E3"
             },
             "line": {
              "color": "white"
             }
            },
            "type": "table"
           }
          ]
         },
         "layout": {
          "annotationdefaults": {
           "arrowcolor": "#2a3f5f",
           "arrowhead": 0,
           "arrowwidth": 1
          },
          "coloraxis": {
           "colorbar": {
            "outlinewidth": 0,
            "ticks": ""
           }
          },
          "colorscale": {
           "diverging": [
            [
             0,
             "#8e0152"
            ],
            [
             0.1,
             "#c51b7d"
            ],
            [
             0.2,
             "#de77ae"
            ],
            [
             0.3,
             "#f1b6da"
            ],
            [
             0.4,
             "#fde0ef"
            ],
            [
             0.5,
             "#f7f7f7"
            ],
            [
             0.6,
             "#e6f5d0"
            ],
            [
             0.7,
             "#b8e186"
            ],
            [
             0.8,
             "#7fbc41"
            ],
            [
             0.9,
             "#4d9221"
            ],
            [
             1,
             "#276419"
            ]
           ],
           "sequential": [
            [
             0,
             "#0d0887"
            ],
            [
             0.1111111111111111,
             "#46039f"
            ],
            [
             0.2222222222222222,
             "#7201a8"
            ],
            [
             0.3333333333333333,
             "#9c179e"
            ],
            [
             0.4444444444444444,
             "#bd3786"
            ],
            [
             0.5555555555555556,
             "#d8576b"
            ],
            [
             0.6666666666666666,
             "#ed7953"
            ],
            [
             0.7777777777777778,
             "#fb9f3a"
            ],
            [
             0.8888888888888888,
             "#fdca26"
            ],
            [
             1,
             "#f0f921"
            ]
           ],
           "sequentialminus": [
            [
             0,
             "#0d0887"
            ],
            [
             0.1111111111111111,
             "#46039f"
            ],
            [
             0.2222222222222222,
             "#7201a8"
            ],
            [
             0.3333333333333333,
             "#9c179e"
            ],
            [
             0.4444444444444444,
             "#bd3786"
            ],
            [
             0.5555555555555556,
             "#d8576b"
            ],
            [
             0.6666666666666666,
             "#ed7953"
            ],
            [
             0.7777777777777778,
             "#fb9f3a"
            ],
            [
             0.8888888888888888,
             "#fdca26"
            ],
            [
             1,
             "#f0f921"
            ]
           ]
          },
          "colorway": [
           "#636efa",
           "#EF553B",
           "#00cc96",
           "#ab63fa",
           "#FFA15A",
           "#19d3f3",
           "#FF6692",
           "#B6E880",
           "#FF97FF",
           "#FECB52"
          ],
          "font": {
           "color": "#2a3f5f"
          },
          "geo": {
           "bgcolor": "white",
           "lakecolor": "white",
           "landcolor": "#E5ECF6",
           "showlakes": true,
           "showland": true,
           "subunitcolor": "white"
          },
          "hoverlabel": {
           "align": "left"
          },
          "hovermode": "closest",
          "mapbox": {
           "style": "light"
          },
          "paper_bgcolor": "white",
          "plot_bgcolor": "#E5ECF6",
          "polar": {
           "angularaxis": {
            "gridcolor": "white",
            "linecolor": "white",
            "ticks": ""
           },
           "bgcolor": "#E5ECF6",
           "radialaxis": {
            "gridcolor": "white",
            "linecolor": "white",
            "ticks": ""
           }
          },
          "scene": {
           "xaxis": {
            "backgroundcolor": "#E5ECF6",
            "gridcolor": "white",
            "gridwidth": 2,
            "linecolor": "white",
            "showbackground": true,
            "ticks": "",
            "zerolinecolor": "white"
           },
           "yaxis": {
            "backgroundcolor": "#E5ECF6",
            "gridcolor": "white",
            "gridwidth": 2,
            "linecolor": "white",
            "showbackground": true,
            "ticks": "",
            "zerolinecolor": "white"
           },
           "zaxis": {
            "backgroundcolor": "#E5ECF6",
            "gridcolor": "white",
            "gridwidth": 2,
            "linecolor": "white",
            "showbackground": true,
            "ticks": "",
            "zerolinecolor": "white"
           }
          },
          "shapedefaults": {
           "line": {
            "color": "#2a3f5f"
           }
          },
          "ternary": {
           "aaxis": {
            "gridcolor": "white",
            "linecolor": "white",
            "ticks": ""
           },
           "baxis": {
            "gridcolor": "white",
            "linecolor": "white",
            "ticks": ""
           },
           "bgcolor": "#E5ECF6",
           "caxis": {
            "gridcolor": "white",
            "linecolor": "white",
            "ticks": ""
           }
          },
          "title": {
           "x": 0.05
          },
          "xaxis": {
           "automargin": true,
           "gridcolor": "white",
           "linecolor": "white",
           "ticks": "",
           "title": {
            "standoff": 15
           },
           "zerolinecolor": "white",
           "zerolinewidth": 2
          },
          "yaxis": {
           "automargin": true,
           "gridcolor": "white",
           "linecolor": "white",
           "ticks": "",
           "title": {
            "standoff": 15
           },
           "zerolinecolor": "white",
           "zerolinewidth": 2
          }
         }
        },
        "xaxis": {
         "tickformat": "%B <br>%Y",
         "tickmode": "array",
         "ticktext": [
          "2020-01",
          "2020-02",
          "2020-03",
          "2020-04",
          "2020-05",
          "2020-06",
          "2020-07"
         ],
         "tickvals": [
          "2020-01",
          "2020-02",
          "2020-03",
          "2020-04",
          "2020-05",
          "2020-06",
          "2020-07"
         ],
         "title": {
          "text": "Fecha del contrato"
         }
        }
       }
      },
      "text/html": [
       "<div>\n",
       "        \n",
       "        \n",
       "            <div id=\"727f862e-1535-4222-a7df-586f30e121f0\" class=\"plotly-graph-div\" style=\"height:525px; width:100%;\"></div>\n",
       "            <script type=\"text/javascript\">\n",
       "                require([\"plotly\"], function(Plotly) {\n",
       "                    window.PLOTLYENV=window.PLOTLYENV || {};\n",
       "                    \n",
       "                if (document.getElementById(\"727f862e-1535-4222-a7df-586f30e121f0\")) {\n",
       "                    Plotly.newPlot(\n",
       "                        '727f862e-1535-4222-a7df-586f30e121f0',\n",
       "                        [{\"type\": \"bar\", \"x\": [\"2020-01\", \"2020-02\", \"2020-03\", \"2020-04\", \"2020-05\", \"2020-06\", \"2020-07\"], \"y\": [45, 69, 1298, 5708, 3139, 1, 1]}],\n",
       "                        {\"font\": {\"color\": \"#252525\", \"family\": \"Roboto\"}, \"margin\": {\"b\": 0, \"l\": 0, \"r\": 0, \"t\": 0}, \"paper_bgcolor\": \"rgba(0,0,0,0)\", \"plot_bgcolor\": \"rgba(0,0,0,0)\", \"template\": {\"data\": {\"bar\": [{\"error_x\": {\"color\": \"#2a3f5f\"}, \"error_y\": {\"color\": \"#2a3f5f\"}, \"marker\": {\"line\": {\"color\": \"#E5ECF6\", \"width\": 0.5}}, \"type\": \"bar\"}], \"barpolar\": [{\"marker\": {\"line\": {\"color\": \"#E5ECF6\", \"width\": 0.5}}, \"type\": \"barpolar\"}], \"carpet\": [{\"aaxis\": {\"endlinecolor\": \"#2a3f5f\", \"gridcolor\": \"white\", \"linecolor\": \"white\", \"minorgridcolor\": \"white\", \"startlinecolor\": \"#2a3f5f\"}, \"baxis\": {\"endlinecolor\": \"#2a3f5f\", \"gridcolor\": \"white\", \"linecolor\": \"white\", \"minorgridcolor\": \"white\", \"startlinecolor\": \"#2a3f5f\"}, \"type\": \"carpet\"}], \"choropleth\": [{\"colorbar\": {\"outlinewidth\": 0, \"ticks\": \"\"}, \"type\": \"choropleth\"}], \"contour\": [{\"colorbar\": {\"outlinewidth\": 0, \"ticks\": \"\"}, \"colorscale\": [[0.0, \"#0d0887\"], [0.1111111111111111, \"#46039f\"], [0.2222222222222222, \"#7201a8\"], [0.3333333333333333, \"#9c179e\"], [0.4444444444444444, \"#bd3786\"], [0.5555555555555556, \"#d8576b\"], [0.6666666666666666, \"#ed7953\"], [0.7777777777777778, \"#fb9f3a\"], [0.8888888888888888, \"#fdca26\"], [1.0, \"#f0f921\"]], \"type\": \"contour\"}], \"contourcarpet\": [{\"colorbar\": {\"outlinewidth\": 0, \"ticks\": \"\"}, \"type\": \"contourcarpet\"}], \"heatmap\": [{\"colorbar\": {\"outlinewidth\": 0, \"ticks\": \"\"}, \"colorscale\": [[0.0, \"#0d0887\"], [0.1111111111111111, \"#46039f\"], [0.2222222222222222, \"#7201a8\"], [0.3333333333333333, \"#9c179e\"], [0.4444444444444444, \"#bd3786\"], [0.5555555555555556, \"#d8576b\"], [0.6666666666666666, \"#ed7953\"], [0.7777777777777778, \"#fb9f3a\"], [0.8888888888888888, \"#fdca26\"], [1.0, \"#f0f921\"]], \"type\": \"heatmap\"}], \"heatmapgl\": [{\"colorbar\": {\"outlinewidth\": 0, \"ticks\": \"\"}, \"colorscale\": [[0.0, \"#0d0887\"], [0.1111111111111111, \"#46039f\"], [0.2222222222222222, \"#7201a8\"], [0.3333333333333333, \"#9c179e\"], [0.4444444444444444, \"#bd3786\"], [0.5555555555555556, \"#d8576b\"], [0.6666666666666666, \"#ed7953\"], [0.7777777777777778, \"#fb9f3a\"], [0.8888888888888888, \"#fdca26\"], [1.0, \"#f0f921\"]], \"type\": \"heatmapgl\"}], \"histogram\": [{\"marker\": {\"colorbar\": {\"outlinewidth\": 0, \"ticks\": \"\"}}, \"type\": \"histogram\"}], \"histogram2d\": [{\"colorbar\": {\"outlinewidth\": 0, \"ticks\": \"\"}, \"colorscale\": [[0.0, \"#0d0887\"], [0.1111111111111111, \"#46039f\"], [0.2222222222222222, \"#7201a8\"], [0.3333333333333333, \"#9c179e\"], [0.4444444444444444, \"#bd3786\"], [0.5555555555555556, \"#d8576b\"], [0.6666666666666666, \"#ed7953\"], [0.7777777777777778, \"#fb9f3a\"], [0.8888888888888888, \"#fdca26\"], [1.0, \"#f0f921\"]], \"type\": \"histogram2d\"}], \"histogram2dcontour\": [{\"colorbar\": {\"outlinewidth\": 0, \"ticks\": \"\"}, \"colorscale\": [[0.0, \"#0d0887\"], [0.1111111111111111, \"#46039f\"], [0.2222222222222222, \"#7201a8\"], [0.3333333333333333, \"#9c179e\"], [0.4444444444444444, \"#bd3786\"], [0.5555555555555556, \"#d8576b\"], [0.6666666666666666, \"#ed7953\"], [0.7777777777777778, \"#fb9f3a\"], [0.8888888888888888, \"#fdca26\"], [1.0, \"#f0f921\"]], \"type\": \"histogram2dcontour\"}], \"mesh3d\": [{\"colorbar\": {\"outlinewidth\": 0, \"ticks\": \"\"}, \"type\": \"mesh3d\"}], \"parcoords\": [{\"line\": {\"colorbar\": {\"outlinewidth\": 0, \"ticks\": \"\"}}, \"type\": \"parcoords\"}], \"pie\": [{\"automargin\": true, \"type\": \"pie\"}], \"scatter\": [{\"marker\": {\"colorbar\": {\"outlinewidth\": 0, \"ticks\": \"\"}}, \"type\": \"scatter\"}], \"scatter3d\": [{\"line\": {\"colorbar\": {\"outlinewidth\": 0, \"ticks\": \"\"}}, \"marker\": {\"colorbar\": {\"outlinewidth\": 0, \"ticks\": \"\"}}, \"type\": \"scatter3d\"}], \"scattercarpet\": [{\"marker\": {\"colorbar\": {\"outlinewidth\": 0, \"ticks\": \"\"}}, \"type\": \"scattercarpet\"}], \"scattergeo\": [{\"marker\": {\"colorbar\": {\"outlinewidth\": 0, \"ticks\": \"\"}}, \"type\": \"scattergeo\"}], \"scattergl\": [{\"marker\": {\"colorbar\": {\"outlinewidth\": 0, \"ticks\": \"\"}}, \"type\": \"scattergl\"}], \"scattermapbox\": [{\"marker\": {\"colorbar\": {\"outlinewidth\": 0, \"ticks\": \"\"}}, \"type\": \"scattermapbox\"}], \"scatterpolar\": [{\"marker\": {\"colorbar\": {\"outlinewidth\": 0, \"ticks\": \"\"}}, \"type\": \"scatterpolar\"}], \"scatterpolargl\": [{\"marker\": {\"colorbar\": {\"outlinewidth\": 0, \"ticks\": \"\"}}, \"type\": \"scatterpolargl\"}], \"scatterternary\": [{\"marker\": {\"colorbar\": {\"outlinewidth\": 0, \"ticks\": \"\"}}, \"type\": \"scatterternary\"}], \"surface\": [{\"colorbar\": {\"outlinewidth\": 0, \"ticks\": \"\"}, \"colorscale\": [[0.0, \"#0d0887\"], [0.1111111111111111, \"#46039f\"], [0.2222222222222222, \"#7201a8\"], [0.3333333333333333, \"#9c179e\"], [0.4444444444444444, \"#bd3786\"], [0.5555555555555556, \"#d8576b\"], [0.6666666666666666, \"#ed7953\"], [0.7777777777777778, \"#fb9f3a\"], [0.8888888888888888, \"#fdca26\"], [1.0, \"#f0f921\"]], \"type\": \"surface\"}], \"table\": [{\"cells\": {\"fill\": {\"color\": \"#EBF0F8\"}, \"line\": {\"color\": \"white\"}}, \"header\": {\"fill\": {\"color\": \"#C8D4E3\"}, \"line\": {\"color\": \"white\"}}, \"type\": \"table\"}]}, \"layout\": {\"annotationdefaults\": {\"arrowcolor\": \"#2a3f5f\", \"arrowhead\": 0, \"arrowwidth\": 1}, \"coloraxis\": {\"colorbar\": {\"outlinewidth\": 0, \"ticks\": \"\"}}, \"colorscale\": {\"diverging\": [[0, \"#8e0152\"], [0.1, \"#c51b7d\"], [0.2, \"#de77ae\"], [0.3, \"#f1b6da\"], [0.4, \"#fde0ef\"], [0.5, \"#f7f7f7\"], [0.6, \"#e6f5d0\"], [0.7, \"#b8e186\"], [0.8, \"#7fbc41\"], [0.9, \"#4d9221\"], [1, \"#276419\"]], \"sequential\": [[0.0, \"#0d0887\"], [0.1111111111111111, \"#46039f\"], [0.2222222222222222, \"#7201a8\"], [0.3333333333333333, \"#9c179e\"], [0.4444444444444444, \"#bd3786\"], [0.5555555555555556, \"#d8576b\"], [0.6666666666666666, \"#ed7953\"], [0.7777777777777778, \"#fb9f3a\"], [0.8888888888888888, \"#fdca26\"], [1.0, \"#f0f921\"]], \"sequentialminus\": [[0.0, \"#0d0887\"], [0.1111111111111111, \"#46039f\"], [0.2222222222222222, \"#7201a8\"], [0.3333333333333333, \"#9c179e\"], [0.4444444444444444, \"#bd3786\"], [0.5555555555555556, \"#d8576b\"], [0.6666666666666666, \"#ed7953\"], [0.7777777777777778, \"#fb9f3a\"], [0.8888888888888888, \"#fdca26\"], [1.0, \"#f0f921\"]]}, \"colorway\": [\"#636efa\", \"#EF553B\", \"#00cc96\", \"#ab63fa\", \"#FFA15A\", \"#19d3f3\", \"#FF6692\", \"#B6E880\", \"#FF97FF\", \"#FECB52\"], \"font\": {\"color\": \"#2a3f5f\"}, \"geo\": {\"bgcolor\": \"white\", \"lakecolor\": \"white\", \"landcolor\": \"#E5ECF6\", \"showlakes\": true, \"showland\": true, \"subunitcolor\": \"white\"}, \"hoverlabel\": {\"align\": \"left\"}, \"hovermode\": \"closest\", \"mapbox\": {\"style\": \"light\"}, \"paper_bgcolor\": \"white\", \"plot_bgcolor\": \"#E5ECF6\", \"polar\": {\"angularaxis\": {\"gridcolor\": \"white\", \"linecolor\": \"white\", \"ticks\": \"\"}, \"bgcolor\": \"#E5ECF6\", \"radialaxis\": {\"gridcolor\": \"white\", \"linecolor\": \"white\", \"ticks\": \"\"}}, \"scene\": {\"xaxis\": {\"backgroundcolor\": \"#E5ECF6\", \"gridcolor\": \"white\", \"gridwidth\": 2, \"linecolor\": \"white\", \"showbackground\": true, \"ticks\": \"\", \"zerolinecolor\": \"white\"}, \"yaxis\": {\"backgroundcolor\": \"#E5ECF6\", \"gridcolor\": \"white\", \"gridwidth\": 2, \"linecolor\": \"white\", \"showbackground\": true, \"ticks\": \"\", \"zerolinecolor\": \"white\"}, \"zaxis\": {\"backgroundcolor\": \"#E5ECF6\", \"gridcolor\": \"white\", \"gridwidth\": 2, \"linecolor\": \"white\", \"showbackground\": true, \"ticks\": \"\", \"zerolinecolor\": \"white\"}}, \"shapedefaults\": {\"line\": {\"color\": \"#2a3f5f\"}}, \"ternary\": {\"aaxis\": {\"gridcolor\": \"white\", \"linecolor\": \"white\", \"ticks\": \"\"}, \"baxis\": {\"gridcolor\": \"white\", \"linecolor\": \"white\", \"ticks\": \"\"}, \"bgcolor\": \"#E5ECF6\", \"caxis\": {\"gridcolor\": \"white\", \"linecolor\": \"white\", \"ticks\": \"\"}}, \"title\": {\"x\": 0.05}, \"xaxis\": {\"automargin\": true, \"gridcolor\": \"white\", \"linecolor\": \"white\", \"ticks\": \"\", \"title\": {\"standoff\": 15}, \"zerolinecolor\": \"white\", \"zerolinewidth\": 2}, \"yaxis\": {\"automargin\": true, \"gridcolor\": \"white\", \"linecolor\": \"white\", \"ticks\": \"\", \"title\": {\"standoff\": 15}, \"zerolinecolor\": \"white\", \"zerolinewidth\": 2}}}, \"xaxis\": {\"tickformat\": \"%B <br>%Y\", \"tickmode\": \"array\", \"ticktext\": [\"2020-01\", \"2020-02\", \"2020-03\", \"2020-04\", \"2020-05\", \"2020-06\", \"2020-07\"], \"tickvals\": [\"2020-01\", \"2020-02\", \"2020-03\", \"2020-04\", \"2020-05\", \"2020-06\", \"2020-07\"], \"title\": {\"text\": \"Fecha del contrato\"}}},\n",
       "                        {\"responsive\": true}\n",
       "                    ).then(function(){\n",
       "                            \n",
       "var gd = document.getElementById('727f862e-1535-4222-a7df-586f30e121f0');\n",
       "var x = new MutationObserver(function (mutations, observer) {{\n",
       "        var display = window.getComputedStyle(gd).display;\n",
       "        if (!display || display === 'none') {{\n",
       "            console.log([gd, 'removed!']);\n",
       "            Plotly.purge(gd);\n",
       "            observer.disconnect();\n",
       "        }}\n",
       "}});\n",
       "\n",
       "// Listen for the removal of the full notebook cells\n",
       "var notebookContainer = gd.closest('#notebook-container');\n",
       "if (notebookContainer) {{\n",
       "    x.observe(notebookContainer, {childList: true});\n",
       "}}\n",
       "\n",
       "// Listen for the clearing of the current output cell\n",
       "var outputEl = gd.closest('.output');\n",
       "if (outputEl) {{\n",
       "    x.observe(outputEl, {childList: true});\n",
       "}}\n",
       "\n",
       "                        })\n",
       "                };\n",
       "                });\n",
       "            </script>\n",
       "        </div>"
      ]
     },
     "metadata": {},
     "output_type": "display_data"
    }
   ],
   "source": [
    "fig = go.Figure(data=[\n",
    "    go.Bar(x=graph_df['Mes del contrato'].astype(str), y=graph_df['Num contratos']),\n",
    "])\n",
    "# Change the bar mode\n",
    "fig.update_layout(\n",
    "    xaxis_tickformat = '%B <br>%Y'\n",
    ")\n",
    "\n",
    "fig.update_layout(\n",
    "    xaxis = dict(\n",
    "        tickmode = 'array',\n",
    "        tickvals = graph_df['Mes del contrato'].astype(str).unique(),\n",
    "        ticktext = graph_df['Mes del contrato'].astype(str).unique()\n",
    "    )\n",
    ")\n",
    "fig.update_layout(\n",
    "    font=dict(\n",
    "        color=\"#252525\",\n",
    "        family=\"Roboto\"\n",
    "    ),\n",
    "    paper_bgcolor='rgba(0,0,0,0)',\n",
    "    plot_bgcolor='rgba(0,0,0,0)',\n",
    "    xaxis_title=\"Fecha del contrato\",\n",
    "    margin={\"r\":0,\"t\":0,\"l\":0,\"b\":0}\n",
    ")\n",
    "fig.show()"
   ]
  },
  {
   "cell_type": "markdown",
   "metadata": {},
   "source": [
    "# 2. Financiación de campañas"
   ]
  },
  {
   "cell_type": "code",
   "execution_count": 53,
   "metadata": {},
   "outputs": [
    {
     "data": {
      "text/html": [
       "<div>\n",
       "<style scoped>\n",
       "    .dataframe tbody tr th:only-of-type {\n",
       "        vertical-align: middle;\n",
       "    }\n",
       "\n",
       "    .dataframe tbody tr th {\n",
       "        vertical-align: top;\n",
       "    }\n",
       "\n",
       "    .dataframe thead th {\n",
       "        text-align: right;\n",
       "    }\n",
       "</style>\n",
       "<table border=\"1\" class=\"dataframe\">\n",
       "  <thead>\n",
       "    <tr style=\"text-align: right;\">\n",
       "      <th></th>\n",
       "      <th>Unnamed: 0</th>\n",
       "      <th>Unnamed: 0.1</th>\n",
       "      <th>ids</th>\n",
       "      <th>fechas</th>\n",
       "      <th>municipio_contrato</th>\n",
       "      <th>entidades</th>\n",
       "      <th>contratista_ids</th>\n",
       "      <th>contratista_name</th>\n",
       "      <th>valores</th>\n",
       "      <th>detalles</th>\n",
       "      <th>...</th>\n",
       "      <th>circunscripcion.electoral</th>\n",
       "      <th>organizacion.politica</th>\n",
       "      <th>identificacion.candidato</th>\n",
       "      <th>nombre.candidato</th>\n",
       "      <th>elegido</th>\n",
       "      <th>valor</th>\n",
       "      <th>tipo.donacion</th>\n",
       "      <th>concepto.del.ingreso</th>\n",
       "      <th>identificacion_aportante</th>\n",
       "      <th>aportante.original.nombre</th>\n",
       "    </tr>\n",
       "  </thead>\n",
       "  <tbody>\n",
       "    <tr>\n",
       "      <th>0</th>\n",
       "      <td>0</td>\n",
       "      <td>1457</td>\n",
       "      <td>20-4-10874698</td>\n",
       "      <td>2020-06-29T16:44:19.000Z</td>\n",
       "      <td>NaN</td>\n",
       "      <td>META - INSTITUCION EDUCATIVA MANUELA BELTRAN -...</td>\n",
       "      <td>890900943</td>\n",
       "      <td>COLOMBIANA DE COMERCIO SA</td>\n",
       "      <td>5415800.0</td>\n",
       "      <td>SUMINISTRO DE COMPUTADORES PORTATILES, ANTIVIR...</td>\n",
       "      <td>...</td>\n",
       "      <td>Municipal</td>\n",
       "      <td>PARTIDO ALIANZA VERDE - PARTIDO ALIANZA SOCIAL...</td>\n",
       "      <td>71587929</td>\n",
       "      <td>FABIO ALONSO SALAZAR JARAMILLO</td>\n",
       "      <td>No</td>\n",
       "      <td>$20,000,000</td>\n",
       "      <td>Donación</td>\n",
       "      <td>DONACION PERSONA JURIDICA</td>\n",
       "      <td>890900943</td>\n",
       "      <td>COLOMBIANA DE COMERCIO SA</td>\n",
       "    </tr>\n",
       "    <tr>\n",
       "      <th>1</th>\n",
       "      <td>1</td>\n",
       "      <td>1457</td>\n",
       "      <td>20-4-10874698</td>\n",
       "      <td>2020-06-29T16:44:19.000Z</td>\n",
       "      <td>NaN</td>\n",
       "      <td>META - INSTITUCION EDUCATIVA MANUELA BELTRAN -...</td>\n",
       "      <td>890900943</td>\n",
       "      <td>COLOMBIANA DE COMERCIO SA</td>\n",
       "      <td>5415800.0</td>\n",
       "      <td>SUMINISTRO DE COMPUTADORES PORTATILES, ANTIVIR...</td>\n",
       "      <td>...</td>\n",
       "      <td>Municipal</td>\n",
       "      <td>PARTIDO CENTRO DEMOCRATICO - PARTIDO CONSERVAD...</td>\n",
       "      <td>15440458</td>\n",
       "      <td>ANDRES JULIAN RENDON CARDONA</td>\n",
       "      <td>Si</td>\n",
       "      <td>$5,000,000</td>\n",
       "      <td>Donación</td>\n",
       "      <td>DONACION PARTICULAR</td>\n",
       "      <td>890900943</td>\n",
       "      <td>COLOMBIANA DE COMERCIO S.A</td>\n",
       "    </tr>\n",
       "    <tr>\n",
       "      <th>2</th>\n",
       "      <td>2</td>\n",
       "      <td>1457</td>\n",
       "      <td>20-4-10874698</td>\n",
       "      <td>2020-06-29T16:44:19.000Z</td>\n",
       "      <td>NaN</td>\n",
       "      <td>META - INSTITUCION EDUCATIVA MANUELA BELTRAN -...</td>\n",
       "      <td>890900943</td>\n",
       "      <td>COLOMBIANA DE COMERCIO SA</td>\n",
       "      <td>5415800.0</td>\n",
       "      <td>SUMINISTRO DE COMPUTADORES PORTATILES, ANTIVIR...</td>\n",
       "      <td>...</td>\n",
       "      <td>Municipal</td>\n",
       "      <td>CENTRO DEMOCRATICO</td>\n",
       "      <td>19463238</td>\n",
       "      <td>FRANCISCO  SANTOS CALDERON</td>\n",
       "      <td>No</td>\n",
       "      <td>$25,000,000</td>\n",
       "      <td>Donación</td>\n",
       "      <td>DONACIÓN</td>\n",
       "      <td>890900943</td>\n",
       "      <td>COLOMBIANA DE COMERCIO S.A.</td>\n",
       "    </tr>\n",
       "    <tr>\n",
       "      <th>3</th>\n",
       "      <td>3</td>\n",
       "      <td>1457</td>\n",
       "      <td>20-4-10874698</td>\n",
       "      <td>2020-06-29T16:44:19.000Z</td>\n",
       "      <td>NaN</td>\n",
       "      <td>META - INSTITUCION EDUCATIVA MANUELA BELTRAN -...</td>\n",
       "      <td>890900943</td>\n",
       "      <td>COLOMBIANA DE COMERCIO SA</td>\n",
       "      <td>5415800.0</td>\n",
       "      <td>SUMINISTRO DE COMPUTADORES PORTATILES, ANTIVIR...</td>\n",
       "      <td>...</td>\n",
       "      <td>Municipal</td>\n",
       "      <td>RECUPEREMOS BOGOTA</td>\n",
       "      <td>19333686</td>\n",
       "      <td>ENRIQUE  PEÑALOSA LONDOÑO</td>\n",
       "      <td>Si</td>\n",
       "      <td>$25,000,000</td>\n",
       "      <td>Donación</td>\n",
       "      <td>DONACIÓN</td>\n",
       "      <td>890900943</td>\n",
       "      <td>COLOMBIANA DE COMERCIO S.A</td>\n",
       "    </tr>\n",
       "    <tr>\n",
       "      <th>4</th>\n",
       "      <td>4</td>\n",
       "      <td>1457</td>\n",
       "      <td>20-4-10874698</td>\n",
       "      <td>2020-06-29T16:44:19.000Z</td>\n",
       "      <td>NaN</td>\n",
       "      <td>META - INSTITUCION EDUCATIVA MANUELA BELTRAN -...</td>\n",
       "      <td>890900943</td>\n",
       "      <td>COLOMBIANA DE COMERCIO SA</td>\n",
       "      <td>5415800.0</td>\n",
       "      <td>SUMINISTRO DE COMPUTADORES PORTATILES, ANTIVIR...</td>\n",
       "      <td>...</td>\n",
       "      <td>Municipal</td>\n",
       "      <td>CREEMOS CALI</td>\n",
       "      <td>14446558</td>\n",
       "      <td>NORMAN MAURICE ARMITAGE CADAVID</td>\n",
       "      <td>Si</td>\n",
       "      <td>$10,000,000</td>\n",
       "      <td>Donación</td>\n",
       "      <td>DONACION CHQ 174416 BANCOLOMBIA</td>\n",
       "      <td>890900943</td>\n",
       "      <td>COLOMBIANA DE COMERCIO S.A.</td>\n",
       "    </tr>\n",
       "  </tbody>\n",
       "</table>\n",
       "<p>5 rows × 23 columns</p>\n",
       "</div>"
      ],
      "text/plain": [
       "   Unnamed: 0  Unnamed: 0.1            ids                    fechas  \\\n",
       "0           0          1457  20-4-10874698  2020-06-29T16:44:19.000Z   \n",
       "1           1          1457  20-4-10874698  2020-06-29T16:44:19.000Z   \n",
       "2           2          1457  20-4-10874698  2020-06-29T16:44:19.000Z   \n",
       "3           3          1457  20-4-10874698  2020-06-29T16:44:19.000Z   \n",
       "4           4          1457  20-4-10874698  2020-06-29T16:44:19.000Z   \n",
       "\n",
       "  municipio_contrato                                          entidades  \\\n",
       "0                NaN  META - INSTITUCION EDUCATIVA MANUELA BELTRAN -...   \n",
       "1                NaN  META - INSTITUCION EDUCATIVA MANUELA BELTRAN -...   \n",
       "2                NaN  META - INSTITUCION EDUCATIVA MANUELA BELTRAN -...   \n",
       "3                NaN  META - INSTITUCION EDUCATIVA MANUELA BELTRAN -...   \n",
       "4                NaN  META - INSTITUCION EDUCATIVA MANUELA BELTRAN -...   \n",
       "\n",
       "   contratista_ids           contratista_name    valores  \\\n",
       "0        890900943  COLOMBIANA DE COMERCIO SA  5415800.0   \n",
       "1        890900943  COLOMBIANA DE COMERCIO SA  5415800.0   \n",
       "2        890900943  COLOMBIANA DE COMERCIO SA  5415800.0   \n",
       "3        890900943  COLOMBIANA DE COMERCIO SA  5415800.0   \n",
       "4        890900943  COLOMBIANA DE COMERCIO SA  5415800.0   \n",
       "\n",
       "                                            detalles  ...  \\\n",
       "0  SUMINISTRO DE COMPUTADORES PORTATILES, ANTIVIR...  ...   \n",
       "1  SUMINISTRO DE COMPUTADORES PORTATILES, ANTIVIR...  ...   \n",
       "2  SUMINISTRO DE COMPUTADORES PORTATILES, ANTIVIR...  ...   \n",
       "3  SUMINISTRO DE COMPUTADORES PORTATILES, ANTIVIR...  ...   \n",
       "4  SUMINISTRO DE COMPUTADORES PORTATILES, ANTIVIR...  ...   \n",
       "\n",
       "  circunscripcion.electoral  \\\n",
       "0                 Municipal   \n",
       "1                 Municipal   \n",
       "2                 Municipal   \n",
       "3                 Municipal   \n",
       "4                 Municipal   \n",
       "\n",
       "                               organizacion.politica identificacion.candidato  \\\n",
       "0  PARTIDO ALIANZA VERDE - PARTIDO ALIANZA SOCIAL...                 71587929   \n",
       "1  PARTIDO CENTRO DEMOCRATICO - PARTIDO CONSERVAD...                 15440458   \n",
       "2                                 CENTRO DEMOCRATICO                 19463238   \n",
       "3                                 RECUPEREMOS BOGOTA                 19333686   \n",
       "4                                       CREEMOS CALI                 14446558   \n",
       "\n",
       "                  nombre.candidato elegido        valor tipo.donacion  \\\n",
       "0   FABIO ALONSO SALAZAR JARAMILLO      No  $20,000,000      Donación   \n",
       "1     ANDRES JULIAN RENDON CARDONA      Si   $5,000,000      Donación   \n",
       "2       FRANCISCO  SANTOS CALDERON      No  $25,000,000      Donación   \n",
       "3        ENRIQUE  PEÑALOSA LONDOÑO      Si  $25,000,000      Donación   \n",
       "4  NORMAN MAURICE ARMITAGE CADAVID      Si  $10,000,000      Donación   \n",
       "\n",
       "              concepto.del.ingreso identificacion_aportante  \\\n",
       "0        DONACION PERSONA JURIDICA                890900943   \n",
       "1              DONACION PARTICULAR                890900943   \n",
       "2                         DONACIÓN                890900943   \n",
       "3                         DONACIÓN                890900943   \n",
       "4  DONACION CHQ 174416 BANCOLOMBIA                890900943   \n",
       "\n",
       "     aportante.original.nombre  \n",
       "0    COLOMBIANA DE COMERCIO SA  \n",
       "1   COLOMBIANA DE COMERCIO S.A  \n",
       "2  COLOMBIANA DE COMERCIO S.A.  \n",
       "3   COLOMBIANA DE COMERCIO S.A  \n",
       "4  COLOMBIANA DE COMERCIO S.A.  \n",
       "\n",
       "[5 rows x 23 columns]"
      ]
     },
     "execution_count": 53,
     "metadata": {},
     "output_type": "execute_result"
    }
   ],
   "source": [
    "financiacion = pd.read_csv('s3://proyectocanopy/alarma_financiacion.csv')\n",
    "financiacion.head()"
   ]
  },
  {
   "cell_type": "code",
   "execution_count": 54,
   "metadata": {},
   "outputs": [
    {
     "data": {
      "text/html": [
       "<div>\n",
       "<style scoped>\n",
       "    .dataframe tbody tr th:only-of-type {\n",
       "        vertical-align: middle;\n",
       "    }\n",
       "\n",
       "    .dataframe tbody tr th {\n",
       "        vertical-align: top;\n",
       "    }\n",
       "\n",
       "    .dataframe thead th {\n",
       "        text-align: right;\n",
       "    }\n",
       "</style>\n",
       "<table border=\"1\" class=\"dataframe\">\n",
       "  <thead>\n",
       "    <tr style=\"text-align: right;\">\n",
       "      <th></th>\n",
       "      <th>corporacion.o.cargo</th>\n",
       "      <th>circunscripcion.electoral</th>\n",
       "      <th>organizacion.politica</th>\n",
       "      <th>identificacion.candidato</th>\n",
       "      <th>nombre.candidato</th>\n",
       "      <th>elegido</th>\n",
       "      <th>valor</th>\n",
       "      <th>tipo.donacion</th>\n",
       "      <th>concepto.del.ingreso</th>\n",
       "      <th>identificacion_aportante</th>\n",
       "      <th>aportante.original.nombre</th>\n",
       "    </tr>\n",
       "  </thead>\n",
       "  <tbody>\n",
       "    <tr>\n",
       "      <th>0</th>\n",
       "      <td>Alcaldía</td>\n",
       "      <td>Municipal</td>\n",
       "      <td>PARTIDO ALIANZA VERDE - PARTIDO ALIANZA SOCIAL...</td>\n",
       "      <td>71587929</td>\n",
       "      <td>FABIO ALONSO SALAZAR JARAMILLO</td>\n",
       "      <td>No</td>\n",
       "      <td>$20,000,000</td>\n",
       "      <td>Donación</td>\n",
       "      <td>DONACION PERSONA JURIDICA</td>\n",
       "      <td>890900943</td>\n",
       "      <td>COLOMBIANA DE COMERCIO SA</td>\n",
       "    </tr>\n",
       "    <tr>\n",
       "      <th>1</th>\n",
       "      <td>Alcaldía</td>\n",
       "      <td>Municipal</td>\n",
       "      <td>PARTIDO CENTRO DEMOCRATICO - PARTIDO CONSERVAD...</td>\n",
       "      <td>15440458</td>\n",
       "      <td>ANDRES JULIAN RENDON CARDONA</td>\n",
       "      <td>Si</td>\n",
       "      <td>$5,000,000</td>\n",
       "      <td>Donación</td>\n",
       "      <td>DONACION PARTICULAR</td>\n",
       "      <td>890900943</td>\n",
       "      <td>COLOMBIANA DE COMERCIO S.A</td>\n",
       "    </tr>\n",
       "    <tr>\n",
       "      <th>2</th>\n",
       "      <td>Alcaldía</td>\n",
       "      <td>Municipal</td>\n",
       "      <td>CENTRO DEMOCRATICO</td>\n",
       "      <td>19463238</td>\n",
       "      <td>FRANCISCO  SANTOS CALDERON</td>\n",
       "      <td>No</td>\n",
       "      <td>$25,000,000</td>\n",
       "      <td>Donación</td>\n",
       "      <td>DONACIÓN</td>\n",
       "      <td>890900943</td>\n",
       "      <td>COLOMBIANA DE COMERCIO S.A.</td>\n",
       "    </tr>\n",
       "    <tr>\n",
       "      <th>3</th>\n",
       "      <td>Alcaldía</td>\n",
       "      <td>Municipal</td>\n",
       "      <td>RECUPEREMOS BOGOTA</td>\n",
       "      <td>19333686</td>\n",
       "      <td>ENRIQUE  PEÑALOSA LONDOÑO</td>\n",
       "      <td>Si</td>\n",
       "      <td>$25,000,000</td>\n",
       "      <td>Donación</td>\n",
       "      <td>DONACIÓN</td>\n",
       "      <td>890900943</td>\n",
       "      <td>COLOMBIANA DE COMERCIO S.A</td>\n",
       "    </tr>\n",
       "    <tr>\n",
       "      <th>4</th>\n",
       "      <td>Alcaldía</td>\n",
       "      <td>Municipal</td>\n",
       "      <td>CREEMOS CALI</td>\n",
       "      <td>14446558</td>\n",
       "      <td>NORMAN MAURICE ARMITAGE CADAVID</td>\n",
       "      <td>Si</td>\n",
       "      <td>$10,000,000</td>\n",
       "      <td>Donación</td>\n",
       "      <td>DONACION CHQ 174416 BANCOLOMBIA</td>\n",
       "      <td>890900943</td>\n",
       "      <td>COLOMBIANA DE COMERCIO S.A.</td>\n",
       "    </tr>\n",
       "    <tr>\n",
       "      <th>...</th>\n",
       "      <td>...</td>\n",
       "      <td>...</td>\n",
       "      <td>...</td>\n",
       "      <td>...</td>\n",
       "      <td>...</td>\n",
       "      <td>...</td>\n",
       "      <td>...</td>\n",
       "      <td>...</td>\n",
       "      <td>...</td>\n",
       "      <td>...</td>\n",
       "      <td>...</td>\n",
       "    </tr>\n",
       "    <tr>\n",
       "      <th>917</th>\n",
       "      <td>Alcaldía</td>\n",
       "      <td>Municipal</td>\n",
       "      <td>PARTIDO CONSERVADOR COLOMBIANO</td>\n",
       "      <td>8106620</td>\n",
       "      <td>HUGO ANDRES DIAZ VILLA</td>\n",
       "      <td>No</td>\n",
       "      <td>$5,000,000</td>\n",
       "      <td>Donación</td>\n",
       "      <td>DONACION A LA CAMPAÑA PARA LA ALCALDIA DEL MUN...</td>\n",
       "      <td>800093761</td>\n",
       "      <td>TAX INDIVIDUAL S.A</td>\n",
       "    </tr>\n",
       "    <tr>\n",
       "      <th>918</th>\n",
       "      <td>Concejo</td>\n",
       "      <td>Municipal</td>\n",
       "      <td>PARTIDO LIBERAL COLOMBIANO</td>\n",
       "      <td>71310233</td>\n",
       "      <td>ARIES WEST ROWE MATEUS</td>\n",
       "      <td>Si</td>\n",
       "      <td>$3,000,000</td>\n",
       "      <td>Donación</td>\n",
       "      <td>DONACION PARA GASTOS DE LA CAMPAÑA AL CONCEJO</td>\n",
       "      <td>800093761</td>\n",
       "      <td>EMPRESA TRANSPORTADORA DE TAXIS INDIVIDUAL SA</td>\n",
       "    </tr>\n",
       "    <tr>\n",
       "      <th>919</th>\n",
       "      <td>Senado de la República</td>\n",
       "      <td>Nacional Ordinaria</td>\n",
       "      <td>MOVIMIENTO POLITICO TODOS SOMOS COLOMBIA - TCS</td>\n",
       "      <td>71451657</td>\n",
       "      <td>GUILLERMO ENRIQUE GONZALEZ OCHOA</td>\n",
       "      <td>No</td>\n",
       "      <td>$500,000</td>\n",
       "      <td>Donación</td>\n",
       "      <td>Donación como apoyo a la campaña del candidato...</td>\n",
       "      <td>900270192</td>\n",
       "      <td>CORPORACIÓN VISIÓN GENTE</td>\n",
       "    </tr>\n",
       "    <tr>\n",
       "      <th>920</th>\n",
       "      <td>Concejo</td>\n",
       "      <td>Municipal</td>\n",
       "      <td>PARTIDO SOCIAL DE UNIDAD NACIONAL PARTIDO DE LA U</td>\n",
       "      <td>42679912</td>\n",
       "      <td>ADRIANA MARIA JIMENEZ GOMEZ</td>\n",
       "      <td>No</td>\n",
       "      <td>$1,000,000</td>\n",
       "      <td>Aporte</td>\n",
       "      <td>APORTE CAMPAÑA DE SU PROPIO PATRIMONIO</td>\n",
       "      <td>42679912</td>\n",
       "      <td>ADRIANA MARIA JIMENEZ GOMEZ</td>\n",
       "    </tr>\n",
       "    <tr>\n",
       "      <th>921</th>\n",
       "      <td>Concejo</td>\n",
       "      <td>Municipal</td>\n",
       "      <td>GSC TODOS POR CUCUTA</td>\n",
       "      <td>60350140</td>\n",
       "      <td>LUZ MARINA BALMACEDA CARREÑO</td>\n",
       "      <td>No</td>\n",
       "      <td>$955,000</td>\n",
       "      <td>Aporte</td>\n",
       "      <td>APORTES PROPIOS</td>\n",
       "      <td>60350140</td>\n",
       "      <td>LUZ MARINA BALMACEDA CARREÑO</td>\n",
       "    </tr>\n",
       "  </tbody>\n",
       "</table>\n",
       "<p>922 rows × 11 columns</p>\n",
       "</div>"
      ],
      "text/plain": [
       "        corporacion.o.cargo circunscripcion.electoral  \\\n",
       "0                  Alcaldía                 Municipal   \n",
       "1                  Alcaldía                 Municipal   \n",
       "2                  Alcaldía                 Municipal   \n",
       "3                  Alcaldía                 Municipal   \n",
       "4                  Alcaldía                 Municipal   \n",
       "..                      ...                       ...   \n",
       "917                Alcaldía                 Municipal   \n",
       "918                 Concejo                 Municipal   \n",
       "919  Senado de la República        Nacional Ordinaria   \n",
       "920                 Concejo                 Municipal   \n",
       "921                 Concejo                 Municipal   \n",
       "\n",
       "                                 organizacion.politica  \\\n",
       "0    PARTIDO ALIANZA VERDE - PARTIDO ALIANZA SOCIAL...   \n",
       "1    PARTIDO CENTRO DEMOCRATICO - PARTIDO CONSERVAD...   \n",
       "2                                   CENTRO DEMOCRATICO   \n",
       "3                                   RECUPEREMOS BOGOTA   \n",
       "4                                         CREEMOS CALI   \n",
       "..                                                 ...   \n",
       "917                     PARTIDO CONSERVADOR COLOMBIANO   \n",
       "918                         PARTIDO LIBERAL COLOMBIANO   \n",
       "919     MOVIMIENTO POLITICO TODOS SOMOS COLOMBIA - TCS   \n",
       "920  PARTIDO SOCIAL DE UNIDAD NACIONAL PARTIDO DE LA U   \n",
       "921                               GSC TODOS POR CUCUTA   \n",
       "\n",
       "     identificacion.candidato                  nombre.candidato elegido  \\\n",
       "0                    71587929    FABIO ALONSO SALAZAR JARAMILLO      No   \n",
       "1                    15440458      ANDRES JULIAN RENDON CARDONA      Si   \n",
       "2                    19463238        FRANCISCO  SANTOS CALDERON      No   \n",
       "3                    19333686         ENRIQUE  PEÑALOSA LONDOÑO      Si   \n",
       "4                    14446558   NORMAN MAURICE ARMITAGE CADAVID      Si   \n",
       "..                        ...                               ...     ...   \n",
       "917                   8106620            HUGO ANDRES DIAZ VILLA      No   \n",
       "918                  71310233            ARIES WEST ROWE MATEUS      Si   \n",
       "919                  71451657  GUILLERMO ENRIQUE GONZALEZ OCHOA      No   \n",
       "920                  42679912       ADRIANA MARIA JIMENEZ GOMEZ      No   \n",
       "921                  60350140      LUZ MARINA BALMACEDA CARREÑO      No   \n",
       "\n",
       "           valor tipo.donacion  \\\n",
       "0    $20,000,000      Donación   \n",
       "1     $5,000,000      Donación   \n",
       "2    $25,000,000      Donación   \n",
       "3    $25,000,000      Donación   \n",
       "4    $10,000,000      Donación   \n",
       "..           ...           ...   \n",
       "917   $5,000,000      Donación   \n",
       "918   $3,000,000      Donación   \n",
       "919     $500,000      Donación   \n",
       "920   $1,000,000        Aporte   \n",
       "921     $955,000        Aporte   \n",
       "\n",
       "                                  concepto.del.ingreso  \\\n",
       "0                            DONACION PERSONA JURIDICA   \n",
       "1                                  DONACION PARTICULAR   \n",
       "2                                             DONACIÓN   \n",
       "3                                             DONACIÓN   \n",
       "4                      DONACION CHQ 174416 BANCOLOMBIA   \n",
       "..                                                 ...   \n",
       "917  DONACION A LA CAMPAÑA PARA LA ALCALDIA DEL MUN...   \n",
       "918     DONACION PARA GASTOS DE LA CAMPAÑA AL CONCEJO    \n",
       "919  Donación como apoyo a la campaña del candidato...   \n",
       "920             APORTE CAMPAÑA DE SU PROPIO PATRIMONIO   \n",
       "921                                    APORTES PROPIOS   \n",
       "\n",
       "     identificacion_aportante                      aportante.original.nombre  \n",
       "0                   890900943                      COLOMBIANA DE COMERCIO SA  \n",
       "1                   890900943                     COLOMBIANA DE COMERCIO S.A  \n",
       "2                   890900943                    COLOMBIANA DE COMERCIO S.A.  \n",
       "3                   890900943                     COLOMBIANA DE COMERCIO S.A  \n",
       "4                   890900943                    COLOMBIANA DE COMERCIO S.A.  \n",
       "..                        ...                                            ...  \n",
       "917                 800093761                             TAX INDIVIDUAL S.A  \n",
       "918                 800093761  EMPRESA TRANSPORTADORA DE TAXIS INDIVIDUAL SA  \n",
       "919                 900270192                       CORPORACIÓN VISIÓN GENTE  \n",
       "920                  42679912                    ADRIANA MARIA JIMENEZ GOMEZ  \n",
       "921                  60350140                   LUZ MARINA BALMACEDA CARREÑO  \n",
       "\n",
       "[922 rows x 11 columns]"
      ]
     },
     "execution_count": 54,
     "metadata": {},
     "output_type": "execute_result"
    }
   ],
   "source": [
    "financiacion[['corporacion.o.cargo', 'circunscripcion.electoral',\n",
    "       'organizacion.politica', 'identificacion.candidato', 'nombre.candidato',\n",
    "       'elegido', 'valor', 'tipo.donacion', 'concepto.del.ingreso',\n",
    "       'identificacion_aportante', 'aportante.original.nombre']]"
   ]
  },
  {
   "cell_type": "code",
   "execution_count": 55,
   "metadata": {},
   "outputs": [
    {
     "data": {
      "text/plain": [
       "Index(['Unnamed: 0', 'Unnamed: 0.1', 'ids', 'fechas', 'municipio_contrato',\n",
       "       'entidades', 'contratista_ids', 'contratista_name', 'valores',\n",
       "       'detalles', 'uri', 'departamento_def', 'corporacion.o.cargo',\n",
       "       'circunscripcion.electoral', 'organizacion.politica',\n",
       "       'identificacion.candidato', 'nombre.candidato', 'elegido', 'valor',\n",
       "       'tipo.donacion', 'concepto.del.ingreso', 'identificacion_aportante',\n",
       "       'aportante.original.nombre'],\n",
       "      dtype='object')"
      ]
     },
     "execution_count": 55,
     "metadata": {},
     "output_type": "execute_result"
    }
   ],
   "source": [
    "financiacion.columns"
   ]
  },
  {
   "cell_type": "code",
   "execution_count": 56,
   "metadata": {},
   "outputs": [
    {
     "data": {
      "text/plain": [
       "(922, 23)"
      ]
     },
     "execution_count": 56,
     "metadata": {},
     "output_type": "execute_result"
    }
   ],
   "source": [
    "financiacion.shape"
   ]
  },
  {
   "cell_type": "code",
   "execution_count": 60,
   "metadata": {},
   "outputs": [
    {
     "data": {
      "text/html": [
       "<div>\n",
       "<style scoped>\n",
       "    .dataframe tbody tr th:only-of-type {\n",
       "        vertical-align: middle;\n",
       "    }\n",
       "\n",
       "    .dataframe tbody tr th {\n",
       "        vertical-align: top;\n",
       "    }\n",
       "\n",
       "    .dataframe thead th {\n",
       "        text-align: right;\n",
       "    }\n",
       "</style>\n",
       "<table border=\"1\" class=\"dataframe\">\n",
       "  <thead>\n",
       "    <tr style=\"text-align: right;\">\n",
       "      <th></th>\n",
       "      <th>Unnamed: 0</th>\n",
       "      <th>Unnamed: 0.1</th>\n",
       "      <th>ids</th>\n",
       "      <th>fechas</th>\n",
       "      <th>municipio_contrato</th>\n",
       "      <th>entidades</th>\n",
       "      <th>contratista_ids</th>\n",
       "      <th>contratista_name</th>\n",
       "      <th>valores</th>\n",
       "      <th>detalles</th>\n",
       "      <th>...</th>\n",
       "      <th>circunscripcion.electoral</th>\n",
       "      <th>organizacion.politica</th>\n",
       "      <th>identificacion.candidato</th>\n",
       "      <th>nombre.candidato</th>\n",
       "      <th>elegido</th>\n",
       "      <th>valor</th>\n",
       "      <th>tipo.donacion</th>\n",
       "      <th>concepto.del.ingreso</th>\n",
       "      <th>identificacion_aportante</th>\n",
       "      <th>aportante.original.nombre</th>\n",
       "    </tr>\n",
       "  </thead>\n",
       "  <tbody>\n",
       "    <tr>\n",
       "      <th>1</th>\n",
       "      <td>1</td>\n",
       "      <td>1457</td>\n",
       "      <td>20-4-10874698</td>\n",
       "      <td>2020-06-29T16:44:19.000Z</td>\n",
       "      <td>NaN</td>\n",
       "      <td>META - INSTITUCION EDUCATIVA MANUELA BELTRAN -...</td>\n",
       "      <td>890900943</td>\n",
       "      <td>COLOMBIANA DE COMERCIO SA</td>\n",
       "      <td>5415800.0</td>\n",
       "      <td>SUMINISTRO DE COMPUTADORES PORTATILES, ANTIVIR...</td>\n",
       "      <td>...</td>\n",
       "      <td>Municipal</td>\n",
       "      <td>PARTIDO CENTRO DEMOCRATICO - PARTIDO CONSERVAD...</td>\n",
       "      <td>15440458</td>\n",
       "      <td>ANDRES JULIAN RENDON CARDONA</td>\n",
       "      <td>Si</td>\n",
       "      <td>$5,000,000</td>\n",
       "      <td>Donación</td>\n",
       "      <td>DONACION PARTICULAR</td>\n",
       "      <td>890900943</td>\n",
       "      <td>COLOMBIANA DE COMERCIO S.A</td>\n",
       "    </tr>\n",
       "    <tr>\n",
       "      <th>2</th>\n",
       "      <td>2</td>\n",
       "      <td>1457</td>\n",
       "      <td>20-4-10874698</td>\n",
       "      <td>2020-06-29T16:44:19.000Z</td>\n",
       "      <td>NaN</td>\n",
       "      <td>META - INSTITUCION EDUCATIVA MANUELA BELTRAN -...</td>\n",
       "      <td>890900943</td>\n",
       "      <td>COLOMBIANA DE COMERCIO SA</td>\n",
       "      <td>5415800.0</td>\n",
       "      <td>SUMINISTRO DE COMPUTADORES PORTATILES, ANTIVIR...</td>\n",
       "      <td>...</td>\n",
       "      <td>Municipal</td>\n",
       "      <td>CENTRO DEMOCRATICO</td>\n",
       "      <td>19463238</td>\n",
       "      <td>FRANCISCO  SANTOS CALDERON</td>\n",
       "      <td>No</td>\n",
       "      <td>$25,000,000</td>\n",
       "      <td>Donación</td>\n",
       "      <td>DONACIÓN</td>\n",
       "      <td>890900943</td>\n",
       "      <td>COLOMBIANA DE COMERCIO S.A.</td>\n",
       "    </tr>\n",
       "    <tr>\n",
       "      <th>8</th>\n",
       "      <td>8</td>\n",
       "      <td>31997</td>\n",
       "      <td>20-12-10967566</td>\n",
       "      <td>2020-07-29T17:21:28.000Z</td>\n",
       "      <td>NaN</td>\n",
       "      <td>ATLANTICO - INSTITUCION EDUCATIVA DISTRITAL CO...</td>\n",
       "      <td>890900943</td>\n",
       "      <td>COLOMBIANA DE COMERCIO S.A</td>\n",
       "      <td>13941000.0</td>\n",
       "      <td>Suministro De Nueve (9) Computadores Marca HP,...</td>\n",
       "      <td>...</td>\n",
       "      <td>Municipal</td>\n",
       "      <td>PARTIDO CENTRO DEMOCRATICO - PARTIDO CONSERVAD...</td>\n",
       "      <td>15440458</td>\n",
       "      <td>ANDRES JULIAN RENDON CARDONA</td>\n",
       "      <td>Si</td>\n",
       "      <td>$5,000,000</td>\n",
       "      <td>Donación</td>\n",
       "      <td>DONACION PARTICULAR</td>\n",
       "      <td>890900943</td>\n",
       "      <td>COLOMBIANA DE COMERCIO S.A</td>\n",
       "    </tr>\n",
       "    <tr>\n",
       "      <th>9</th>\n",
       "      <td>9</td>\n",
       "      <td>31997</td>\n",
       "      <td>20-12-10967566</td>\n",
       "      <td>2020-07-29T17:21:28.000Z</td>\n",
       "      <td>NaN</td>\n",
       "      <td>ATLANTICO - INSTITUCION EDUCATIVA DISTRITAL CO...</td>\n",
       "      <td>890900943</td>\n",
       "      <td>COLOMBIANA DE COMERCIO S.A</td>\n",
       "      <td>13941000.0</td>\n",
       "      <td>Suministro De Nueve (9) Computadores Marca HP,...</td>\n",
       "      <td>...</td>\n",
       "      <td>Municipal</td>\n",
       "      <td>CENTRO DEMOCRATICO</td>\n",
       "      <td>19463238</td>\n",
       "      <td>FRANCISCO  SANTOS CALDERON</td>\n",
       "      <td>No</td>\n",
       "      <td>$25,000,000</td>\n",
       "      <td>Donación</td>\n",
       "      <td>DONACIÓN</td>\n",
       "      <td>890900943</td>\n",
       "      <td>COLOMBIANA DE COMERCIO S.A.</td>\n",
       "    </tr>\n",
       "    <tr>\n",
       "      <th>15</th>\n",
       "      <td>15</td>\n",
       "      <td>53728</td>\n",
       "      <td>20-4-10746585</td>\n",
       "      <td>2020-05-09T10:07:42.000Z</td>\n",
       "      <td>SANTA ROSA DEL SUR</td>\n",
       "      <td>CALDAS - INSTITUCION EDUCATIVA GOMEZ FERNANDEZ...</td>\n",
       "      <td>890900943</td>\n",
       "      <td>Colombiana de Comercio S.A</td>\n",
       "      <td>5119000.0</td>\n",
       "      <td>Suministro de Impresora y Resmas de papel con ...</td>\n",
       "      <td>...</td>\n",
       "      <td>Municipal</td>\n",
       "      <td>PARTIDO CENTRO DEMOCRATICO - PARTIDO CONSERVAD...</td>\n",
       "      <td>15440458</td>\n",
       "      <td>ANDRES JULIAN RENDON CARDONA</td>\n",
       "      <td>Si</td>\n",
       "      <td>$5,000,000</td>\n",
       "      <td>Donación</td>\n",
       "      <td>DONACION PARTICULAR</td>\n",
       "      <td>890900943</td>\n",
       "      <td>COLOMBIANA DE COMERCIO S.A</td>\n",
       "    </tr>\n",
       "    <tr>\n",
       "      <th>...</th>\n",
       "      <td>...</td>\n",
       "      <td>...</td>\n",
       "      <td>...</td>\n",
       "      <td>...</td>\n",
       "      <td>...</td>\n",
       "      <td>...</td>\n",
       "      <td>...</td>\n",
       "      <td>...</td>\n",
       "      <td>...</td>\n",
       "      <td>...</td>\n",
       "      <td>...</td>\n",
       "      <td>...</td>\n",
       "      <td>...</td>\n",
       "      <td>...</td>\n",
       "      <td>...</td>\n",
       "      <td>...</td>\n",
       "      <td>...</td>\n",
       "      <td>...</td>\n",
       "      <td>...</td>\n",
       "      <td>...</td>\n",
       "      <td>...</td>\n",
       "    </tr>\n",
       "    <tr>\n",
       "      <th>899</th>\n",
       "      <td>899</td>\n",
       "      <td>82495</td>\n",
       "      <td>20-4-10871561</td>\n",
       "      <td>2020-06-26T13:36:12.000Z</td>\n",
       "      <td>CALI</td>\n",
       "      <td>VALLE DEL CAUCA - SOCIEDAD DE ACUEDUCTOS Y ALC...</td>\n",
       "      <td>890301753</td>\n",
       "      <td>SI S.A.S</td>\n",
       "      <td>2244935.0</td>\n",
       "      <td>SUMINISTRO DE ELEMENTOS DE BIOSEGURIDAD (TOALL...</td>\n",
       "      <td>...</td>\n",
       "      <td>Departamental y Distrito Capital</td>\n",
       "      <td>PARTIDO CENTRO DEMOCRATICO</td>\n",
       "      <td>94503511</td>\n",
       "      <td>CHRISTIAN MUNIR GARCES ALJURE</td>\n",
       "      <td>Si</td>\n",
       "      <td>$5,000,000</td>\n",
       "      <td>Contribución</td>\n",
       "      <td>CONTRIBUCION</td>\n",
       "      <td>890301753</td>\n",
       "      <td>ALMACENES SI S.A.</td>\n",
       "    </tr>\n",
       "    <tr>\n",
       "      <th>901</th>\n",
       "      <td>901</td>\n",
       "      <td>87665</td>\n",
       "      <td>20-4-10634988</td>\n",
       "      <td>2020-03-30T17:06:31.000Z</td>\n",
       "      <td>NaN</td>\n",
       "      <td>ANTIOQUIA - CORPORACION RUTA N MEDELLIN</td>\n",
       "      <td>890980724</td>\n",
       "      <td>FUNDACIoN BANCOLOMBIA</td>\n",
       "      <td>0.0</td>\n",
       "      <td>Aunar esfuerzos técnicos, administrativos y fi...</td>\n",
       "      <td>...</td>\n",
       "      <td>Municipal</td>\n",
       "      <td>CENTRO DEMOCRATICO</td>\n",
       "      <td>70563378</td>\n",
       "      <td>JUAN CARLOS ROBERTO VELEZ URIBE</td>\n",
       "      <td>No</td>\n",
       "      <td>$20,000</td>\n",
       "      <td>Donación</td>\n",
       "      <td>DONACION</td>\n",
       "      <td>890980724</td>\n",
       "      <td>FUNDACION BANCOLOMBIA</td>\n",
       "    </tr>\n",
       "    <tr>\n",
       "      <th>902</th>\n",
       "      <td>902</td>\n",
       "      <td>87665</td>\n",
       "      <td>20-4-10634988</td>\n",
       "      <td>2020-03-30T17:06:31.000Z</td>\n",
       "      <td>NaN</td>\n",
       "      <td>ANTIOQUIA - CORPORACION RUTA N MEDELLIN</td>\n",
       "      <td>890980724</td>\n",
       "      <td>FUNDACIoN BANCOLOMBIA</td>\n",
       "      <td>0.0</td>\n",
       "      <td>Aunar esfuerzos técnicos, administrativos y fi...</td>\n",
       "      <td>...</td>\n",
       "      <td>Municipal</td>\n",
       "      <td>CENTRO DEMOCRATICO</td>\n",
       "      <td>70563378</td>\n",
       "      <td>JUAN CARLOS ROBERTO VELEZ URIBE</td>\n",
       "      <td>No</td>\n",
       "      <td>$19,980,000</td>\n",
       "      <td>Donación</td>\n",
       "      <td>DONACION</td>\n",
       "      <td>890980724</td>\n",
       "      <td>FUNDACION BANCOLOMBIA</td>\n",
       "    </tr>\n",
       "    <tr>\n",
       "      <th>907</th>\n",
       "      <td>907</td>\n",
       "      <td>87665</td>\n",
       "      <td>20-4-10634988</td>\n",
       "      <td>2020-03-30T17:06:31.000Z</td>\n",
       "      <td>NaN</td>\n",
       "      <td>ANTIOQUIA - CORPORACION RUTA N MEDELLIN</td>\n",
       "      <td>890980724</td>\n",
       "      <td>FUNDACIoN BANCOLOMBIA</td>\n",
       "      <td>0.0</td>\n",
       "      <td>Aunar esfuerzos técnicos, administrativos y fi...</td>\n",
       "      <td>...</td>\n",
       "      <td>Municipal</td>\n",
       "      <td>CENTRO DEMOCRATICO</td>\n",
       "      <td>19463238</td>\n",
       "      <td>FRANCISCO  SANTOS CALDERON</td>\n",
       "      <td>No</td>\n",
       "      <td>$20,000,000</td>\n",
       "      <td>Donación</td>\n",
       "      <td>DONACIÓN</td>\n",
       "      <td>890980724</td>\n",
       "      <td>FUNDACION BANCOLOMBIA</td>\n",
       "    </tr>\n",
       "    <tr>\n",
       "      <th>911</th>\n",
       "      <td>911</td>\n",
       "      <td>87665</td>\n",
       "      <td>20-4-10634988</td>\n",
       "      <td>2020-03-30T17:06:31.000Z</td>\n",
       "      <td>NaN</td>\n",
       "      <td>ANTIOQUIA - CORPORACION RUTA N MEDELLIN</td>\n",
       "      <td>890980724</td>\n",
       "      <td>FUNDACIoN BANCOLOMBIA</td>\n",
       "      <td>0.0</td>\n",
       "      <td>Aunar esfuerzos técnicos, administrativos y fi...</td>\n",
       "      <td>...</td>\n",
       "      <td>Departamental</td>\n",
       "      <td>CENTRO DEMOCRATICO</td>\n",
       "      <td>71394456</td>\n",
       "      <td>ANDRES FELIPE GUERRA HOYOS</td>\n",
       "      <td>No</td>\n",
       "      <td>$30,000,000</td>\n",
       "      <td>Donación</td>\n",
       "      <td>DONACION</td>\n",
       "      <td>890980724</td>\n",
       "      <td>FUNDACION BANCOLOMBIA</td>\n",
       "    </tr>\n",
       "  </tbody>\n",
       "</table>\n",
       "<p>186 rows × 23 columns</p>\n",
       "</div>"
      ],
      "text/plain": [
       "     Unnamed: 0  Unnamed: 0.1             ids                    fechas  \\\n",
       "1             1          1457   20-4-10874698  2020-06-29T16:44:19.000Z   \n",
       "2             2          1457   20-4-10874698  2020-06-29T16:44:19.000Z   \n",
       "8             8         31997  20-12-10967566  2020-07-29T17:21:28.000Z   \n",
       "9             9         31997  20-12-10967566  2020-07-29T17:21:28.000Z   \n",
       "15           15         53728   20-4-10746585  2020-05-09T10:07:42.000Z   \n",
       "..          ...           ...             ...                       ...   \n",
       "899         899         82495   20-4-10871561  2020-06-26T13:36:12.000Z   \n",
       "901         901         87665   20-4-10634988  2020-03-30T17:06:31.000Z   \n",
       "902         902         87665   20-4-10634988  2020-03-30T17:06:31.000Z   \n",
       "907         907         87665   20-4-10634988  2020-03-30T17:06:31.000Z   \n",
       "911         911         87665   20-4-10634988  2020-03-30T17:06:31.000Z   \n",
       "\n",
       "     municipio_contrato                                          entidades  \\\n",
       "1                   NaN  META - INSTITUCION EDUCATIVA MANUELA BELTRAN -...   \n",
       "2                   NaN  META - INSTITUCION EDUCATIVA MANUELA BELTRAN -...   \n",
       "8                   NaN  ATLANTICO - INSTITUCION EDUCATIVA DISTRITAL CO...   \n",
       "9                   NaN  ATLANTICO - INSTITUCION EDUCATIVA DISTRITAL CO...   \n",
       "15   SANTA ROSA DEL SUR  CALDAS - INSTITUCION EDUCATIVA GOMEZ FERNANDEZ...   \n",
       "..                  ...                                                ...   \n",
       "899                CALI  VALLE DEL CAUCA - SOCIEDAD DE ACUEDUCTOS Y ALC...   \n",
       "901                 NaN            ANTIOQUIA - CORPORACION RUTA N MEDELLIN   \n",
       "902                 NaN            ANTIOQUIA - CORPORACION RUTA N MEDELLIN   \n",
       "907                 NaN            ANTIOQUIA - CORPORACION RUTA N MEDELLIN   \n",
       "911                 NaN            ANTIOQUIA - CORPORACION RUTA N MEDELLIN   \n",
       "\n",
       "     contratista_ids            contratista_name     valores  \\\n",
       "1          890900943   COLOMBIANA DE COMERCIO SA   5415800.0   \n",
       "2          890900943   COLOMBIANA DE COMERCIO SA   5415800.0   \n",
       "8          890900943  COLOMBIANA DE COMERCIO S.A  13941000.0   \n",
       "9          890900943  COLOMBIANA DE COMERCIO S.A  13941000.0   \n",
       "15         890900943  Colombiana de Comercio S.A   5119000.0   \n",
       "..               ...                         ...         ...   \n",
       "899        890301753                    SI S.A.S   2244935.0   \n",
       "901        890980724       FUNDACIoN BANCOLOMBIA         0.0   \n",
       "902        890980724       FUNDACIoN BANCOLOMBIA         0.0   \n",
       "907        890980724       FUNDACIoN BANCOLOMBIA         0.0   \n",
       "911        890980724       FUNDACIoN BANCOLOMBIA         0.0   \n",
       "\n",
       "                                              detalles  ...  \\\n",
       "1    SUMINISTRO DE COMPUTADORES PORTATILES, ANTIVIR...  ...   \n",
       "2    SUMINISTRO DE COMPUTADORES PORTATILES, ANTIVIR...  ...   \n",
       "8    Suministro De Nueve (9) Computadores Marca HP,...  ...   \n",
       "9    Suministro De Nueve (9) Computadores Marca HP,...  ...   \n",
       "15   Suministro de Impresora y Resmas de papel con ...  ...   \n",
       "..                                                 ...  ...   \n",
       "899  SUMINISTRO DE ELEMENTOS DE BIOSEGURIDAD (TOALL...  ...   \n",
       "901  Aunar esfuerzos técnicos, administrativos y fi...  ...   \n",
       "902  Aunar esfuerzos técnicos, administrativos y fi...  ...   \n",
       "907  Aunar esfuerzos técnicos, administrativos y fi...  ...   \n",
       "911  Aunar esfuerzos técnicos, administrativos y fi...  ...   \n",
       "\n",
       "            circunscripcion.electoral  \\\n",
       "1                           Municipal   \n",
       "2                           Municipal   \n",
       "8                           Municipal   \n",
       "9                           Municipal   \n",
       "15                          Municipal   \n",
       "..                                ...   \n",
       "899  Departamental y Distrito Capital   \n",
       "901                         Municipal   \n",
       "902                         Municipal   \n",
       "907                         Municipal   \n",
       "911                     Departamental   \n",
       "\n",
       "                                 organizacion.politica  \\\n",
       "1    PARTIDO CENTRO DEMOCRATICO - PARTIDO CONSERVAD...   \n",
       "2                                   CENTRO DEMOCRATICO   \n",
       "8    PARTIDO CENTRO DEMOCRATICO - PARTIDO CONSERVAD...   \n",
       "9                                   CENTRO DEMOCRATICO   \n",
       "15   PARTIDO CENTRO DEMOCRATICO - PARTIDO CONSERVAD...   \n",
       "..                                                 ...   \n",
       "899                         PARTIDO CENTRO DEMOCRATICO   \n",
       "901                                 CENTRO DEMOCRATICO   \n",
       "902                                 CENTRO DEMOCRATICO   \n",
       "907                                 CENTRO DEMOCRATICO   \n",
       "911                                 CENTRO DEMOCRATICO   \n",
       "\n",
       "    identificacion.candidato                 nombre.candidato elegido  \\\n",
       "1                   15440458     ANDRES JULIAN RENDON CARDONA      Si   \n",
       "2                   19463238       FRANCISCO  SANTOS CALDERON      No   \n",
       "8                   15440458     ANDRES JULIAN RENDON CARDONA      Si   \n",
       "9                   19463238       FRANCISCO  SANTOS CALDERON      No   \n",
       "15                  15440458     ANDRES JULIAN RENDON CARDONA      Si   \n",
       "..                       ...                              ...     ...   \n",
       "899                 94503511    CHRISTIAN MUNIR GARCES ALJURE      Si   \n",
       "901                 70563378  JUAN CARLOS ROBERTO VELEZ URIBE      No   \n",
       "902                 70563378  JUAN CARLOS ROBERTO VELEZ URIBE      No   \n",
       "907                 19463238       FRANCISCO  SANTOS CALDERON      No   \n",
       "911                 71394456       ANDRES FELIPE GUERRA HOYOS      No   \n",
       "\n",
       "           valor tipo.donacion concepto.del.ingreso identificacion_aportante  \\\n",
       "1     $5,000,000      Donación  DONACION PARTICULAR                890900943   \n",
       "2    $25,000,000      Donación             DONACIÓN                890900943   \n",
       "8     $5,000,000      Donación  DONACION PARTICULAR                890900943   \n",
       "9    $25,000,000      Donación             DONACIÓN                890900943   \n",
       "15    $5,000,000      Donación  DONACION PARTICULAR                890900943   \n",
       "..           ...           ...                  ...                      ...   \n",
       "899   $5,000,000  Contribución         CONTRIBUCION                890301753   \n",
       "901      $20,000      Donación             DONACION                890980724   \n",
       "902  $19,980,000      Donación             DONACION                890980724   \n",
       "907  $20,000,000      Donación             DONACIÓN                890980724   \n",
       "911  $30,000,000      Donación             DONACION                890980724   \n",
       "\n",
       "       aportante.original.nombre  \n",
       "1     COLOMBIANA DE COMERCIO S.A  \n",
       "2    COLOMBIANA DE COMERCIO S.A.  \n",
       "8     COLOMBIANA DE COMERCIO S.A  \n",
       "9    COLOMBIANA DE COMERCIO S.A.  \n",
       "15    COLOMBIANA DE COMERCIO S.A  \n",
       "..                           ...  \n",
       "899            ALMACENES SI S.A.  \n",
       "901        FUNDACION BANCOLOMBIA  \n",
       "902        FUNDACION BANCOLOMBIA  \n",
       "907        FUNDACION BANCOLOMBIA  \n",
       "911        FUNDACION BANCOLOMBIA  \n",
       "\n",
       "[186 rows x 23 columns]"
      ]
     },
     "execution_count": 60,
     "metadata": {},
     "output_type": "execute_result"
    }
   ],
   "source": [
    "financiacion[financiacion['organizacion.politica'].str.contains('CENTRO')]"
   ]
  },
  {
   "cell_type": "code",
   "execution_count": 85,
   "metadata": {},
   "outputs": [
    {
     "name": "stderr",
     "output_type": "stream",
     "text": [
      "/Users/lmontesmarti/Documents/GitHub/canopy-demo/venv/lib/python3.7/site-packages/pandas/core/arrays/datetimes.py:1091: UserWarning:\n",
      "\n",
      "Converting to PeriodArray/Index representation will drop timezone information.\n",
      "\n"
     ]
    },
    {
     "data": {
      "text/html": [
       "<div>\n",
       "<style scoped>\n",
       "    .dataframe tbody tr th:only-of-type {\n",
       "        vertical-align: middle;\n",
       "    }\n",
       "\n",
       "    .dataframe tbody tr th {\n",
       "        vertical-align: top;\n",
       "    }\n",
       "\n",
       "    .dataframe thead th {\n",
       "        text-align: right;\n",
       "    }\n",
       "</style>\n",
       "<table border=\"1\" class=\"dataframe\">\n",
       "  <thead>\n",
       "    <tr style=\"text-align: right;\">\n",
       "      <th></th>\n",
       "      <th>Fecha del contrato</th>\n",
       "      <th>Departamento contrato</th>\n",
       "      <th>Nombre de la entidad</th>\n",
       "      <th>Nombre Financiador</th>\n",
       "      <th>ID Financiador</th>\n",
       "      <th>Valor del contrato</th>\n",
       "      <th>Descripcion del contrato</th>\n",
       "      <th>Valor del aporte</th>\n",
       "      <th>Organización Política</th>\n",
       "      <th>Nombre Candidato</th>\n",
       "      <th>SECOP URL</th>\n",
       "    </tr>\n",
       "  </thead>\n",
       "  <tbody>\n",
       "    <tr>\n",
       "      <th>747</th>\n",
       "      <td>2020-09-30</td>\n",
       "      <td>Valle Del Cauca</td>\n",
       "      <td>VALLE DEL CAUCA - ESE HOSPITAL NUESTRA SEÑORA ...</td>\n",
       "      <td>Distracom S.A</td>\n",
       "      <td>811009788</td>\n",
       "      <td>$5,000,000</td>\n",
       "      <td>El contratista se obliga con el contratante a ...</td>\n",
       "      <td>$5,000,000</td>\n",
       "      <td>Partido Centro Democratico</td>\n",
       "      <td>Juan Fernando Espinal Ramirez</td>\n",
       "      <td>https://www.youtube.com/</td>\n",
       "    </tr>\n",
       "    <tr>\n",
       "      <th>749</th>\n",
       "      <td>2020-09-30</td>\n",
       "      <td>Valle Del Cauca</td>\n",
       "      <td>VALLE DEL CAUCA - ESE HOSPITAL NUESTRA SEÑORA ...</td>\n",
       "      <td>Distracom S.A</td>\n",
       "      <td>811009788</td>\n",
       "      <td>$5,000,000</td>\n",
       "      <td>El contratista se obliga con el contratante a ...</td>\n",
       "      <td>$50,000,000</td>\n",
       "      <td>Partido Social De Unidad Nacional Partido De La U</td>\n",
       "      <td>German Dario Hoyos Giraldo</td>\n",
       "      <td>https://www.youtube.com/</td>\n",
       "    </tr>\n",
       "    <tr>\n",
       "      <th>96</th>\n",
       "      <td>2020-09-30</td>\n",
       "      <td>Bogotá</td>\n",
       "      <td>BOGOTÁ D.C. - ALCALDÍA LOCAL LOS MARTIRES</td>\n",
       "      <td>Caja De Compensacion Familiar - Compensar</td>\n",
       "      <td>860066942</td>\n",
       "      <td>$773,946,197</td>\n",
       "      <td>Compensar se obliga a prestar los servicios re...</td>\n",
       "      <td>$222,621</td>\n",
       "      <td>Bogota Adelante</td>\n",
       "      <td>Rafael  Pardo Rueda</td>\n",
       "      <td>https://www.youtube.com/</td>\n",
       "    </tr>\n",
       "    <tr>\n",
       "      <th>748</th>\n",
       "      <td>2020-09-30</td>\n",
       "      <td>Valle Del Cauca</td>\n",
       "      <td>VALLE DEL CAUCA - ESE HOSPITAL NUESTRA SEÑORA ...</td>\n",
       "      <td>Distracom S.A</td>\n",
       "      <td>811009788</td>\n",
       "      <td>$5,000,000</td>\n",
       "      <td>El contratista se obliga con el contratante a ...</td>\n",
       "      <td>$10,000,000</td>\n",
       "      <td>Partido Centro Democratico</td>\n",
       "      <td>Paola Andrea Holguin Moreno</td>\n",
       "      <td>https://www.youtube.com/</td>\n",
       "    </tr>\n",
       "    <tr>\n",
       "      <th>113</th>\n",
       "      <td>2020-09-29</td>\n",
       "      <td>NaN</td>\n",
       "      <td>ATLANTICO - INSTITUCION EDUCATIVA DISTRITAL KA...</td>\n",
       "      <td>Yesenia Montero Leybas</td>\n",
       "      <td>32844355</td>\n",
       "      <td>$7,000,000</td>\n",
       "      <td>Suministro de impresión y entrega de fotocopia...</td>\n",
       "      <td>$1,000,000</td>\n",
       "      <td>Partido Social De Unidad Nacional Partido De La U</td>\n",
       "      <td>Juan  Ospino Acuña</td>\n",
       "      <td>https://www.youtube.com/</td>\n",
       "    </tr>\n",
       "  </tbody>\n",
       "</table>\n",
       "</div>"
      ],
      "text/plain": [
       "    Fecha del contrato Departamento contrato  \\\n",
       "747         2020-09-30       Valle Del Cauca   \n",
       "749         2020-09-30       Valle Del Cauca   \n",
       "96          2020-09-30                Bogotá   \n",
       "748         2020-09-30       Valle Del Cauca   \n",
       "113         2020-09-29                   NaN   \n",
       "\n",
       "                                  Nombre de la entidad  \\\n",
       "747  VALLE DEL CAUCA - ESE HOSPITAL NUESTRA SEÑORA ...   \n",
       "749  VALLE DEL CAUCA - ESE HOSPITAL NUESTRA SEÑORA ...   \n",
       "96           BOGOTÁ D.C. - ALCALDÍA LOCAL LOS MARTIRES   \n",
       "748  VALLE DEL CAUCA - ESE HOSPITAL NUESTRA SEÑORA ...   \n",
       "113  ATLANTICO - INSTITUCION EDUCATIVA DISTRITAL KA...   \n",
       "\n",
       "                            Nombre Financiador  ID Financiador  \\\n",
       "747                              Distracom S.A       811009788   \n",
       "749                              Distracom S.A       811009788   \n",
       "96   Caja De Compensacion Familiar - Compensar       860066942   \n",
       "748                              Distracom S.A       811009788   \n",
       "113                     Yesenia Montero Leybas        32844355   \n",
       "\n",
       "    Valor del contrato                           Descripcion del contrato  \\\n",
       "747         $5,000,000  El contratista se obliga con el contratante a ...   \n",
       "749         $5,000,000  El contratista se obliga con el contratante a ...   \n",
       "96        $773,946,197  Compensar se obliga a prestar los servicios re...   \n",
       "748         $5,000,000  El contratista se obliga con el contratante a ...   \n",
       "113         $7,000,000  Suministro de impresión y entrega de fotocopia...   \n",
       "\n",
       "    Valor del aporte                              Organización Política  \\\n",
       "747       $5,000,000                         Partido Centro Democratico   \n",
       "749      $50,000,000  Partido Social De Unidad Nacional Partido De La U   \n",
       "96          $222,621                                    Bogota Adelante   \n",
       "748      $10,000,000                         Partido Centro Democratico   \n",
       "113       $1,000,000  Partido Social De Unidad Nacional Partido De La U   \n",
       "\n",
       "                  Nombre Candidato                 SECOP URL  \n",
       "747  Juan Fernando Espinal Ramirez  https://www.youtube.com/  \n",
       "749     German Dario Hoyos Giraldo  https://www.youtube.com/  \n",
       "96             Rafael  Pardo Rueda  https://www.youtube.com/  \n",
       "748    Paola Andrea Holguin Moreno  https://www.youtube.com/  \n",
       "113             Juan  Ospino Acuña  https://www.youtube.com/  "
      ]
     },
     "execution_count": 85,
     "metadata": {},
     "output_type": "execute_result"
    }
   ],
   "source": [
    "df_financiacion = financiacion.copy()\n",
    "\n",
    "\n",
    "\n",
    "# Formatting with $ \n",
    "df_financiacion['valores'] = df_financiacion['valores'].map('${:,.0f}'.format)\n",
    "# Formatting with capitalization\n",
    "df_financiacion['detalles'] = df_financiacion['detalles'].str.capitalize()\n",
    "df_financiacion['contratista_name'] = df_financiacion['contratista_name'].str.title()\n",
    "df_financiacion['departamento_def'] = df_financiacion['departamento_def'].str.title()\n",
    "df_financiacion['municipio_contrato'] = df_financiacion['municipio_contrato'].str.title()\n",
    "df_financiacion['organizacion.politica'] = df_financiacion['organizacion.politica'].str.title()\n",
    "df_financiacion['nombre.candidato'] = df_financiacion['nombre.candidato'].str.title()\n",
    "\n",
    "# Formatting nulls of municipio\n",
    "df_financiacion['municipio_contrato'] = df_financiacion['municipio_contrato'].fillna('')\n",
    "# Formatting fechas with only date\n",
    "df_financiacion['date'] = pd.to_datetime(df_financiacion['fechas']).dt.date\n",
    "# Getting dates' month\n",
    "df_financiacion['month'] =pd.to_datetime(df_financiacion['fechas']).dt.to_period(\"M\")\n",
    "# URL temp\n",
    "df_financiacion['url'] = \"https://www.youtube.com/\"\n",
    "\n",
    "\n",
    "df_financiacion = df_financiacion.rename(columns={\n",
    "    'entidades': 'Nombre de la entidad',\n",
    "    'departamento_def': 'Departamento contrato',\n",
    "    'municipio_contrato': 'Municipio',\n",
    "    'date': 'Fecha del contrato',\n",
    "    'detalles': 'Descripcion del contrato',\n",
    "    'contratista_name': 'Nombre Financiador',\n",
    "    'contratista_ids': 'ID Financiador',\n",
    "    'url': 'SECOP URL',\n",
    "    'valores': 'Valor del contrato',\n",
    "    'valor': 'Valor del aporte',\n",
    "    'month': 'Mes del contrato',\n",
    "    'elegido': 'Candidato elegido',\n",
    "    'organizacion.politica': 'Organización Política',\n",
    "    'nombre.candidato': 'Nombre Candidato'\n",
    "})\n",
    "\n",
    "\n",
    "df_financiacion_final = df_financiacion[['Fecha del contrato', 'Departamento contrato',\n",
    "                                   'Nombre de la entidad', 'Nombre Financiador', \n",
    "                                    'ID Financiador', 'Valor del contrato',\n",
    "                                     'Descripcion del contrato', 'Valor del aporte',\n",
    "                                 'Organización Política','Nombre Candidato', 'SECOP URL' ]]\n",
    "df_financiacion_final = df_financiacion_final.sort_values(by='Fecha del contrato', ascending=False)\n",
    "df_financiacion_final.head()"
   ]
  },
  {
   "cell_type": "code",
   "execution_count": 86,
   "metadata": {},
   "outputs": [
    {
     "data": {
      "application/vnd.plotly.v1+json": {
       "config": {
        "plotlyServerURL": "https://plot.ly"
       },
       "data": [
        {
         "alignmentgroup": "True",
         "hovertemplate": "Num contratos=%{x}<br>Organización Política=%{y}<extra></extra>",
         "legendgroup": "",
         "marker": {
          "color": "#636efa"
         },
         "name": "",
         "offsetgroup": "",
         "orientation": "h",
         "showlegend": false,
         "textposition": "auto",
         "type": "bar",
         "x": [
          24,
          25,
          30,
          35,
          38,
          49,
          61,
          101,
          115,
          143
         ],
         "xaxis": "x",
         "y": [
          "Recuperemos Bogota",
          "Bogota Adelante",
          "Gran Alianza Por Medellín",
          "Partido Opcion Ciudadana",
          "Partido Cambio Radical",
          "Partido Alianza Verde",
          "Centro Democratico",
          "Partido Conservador Colombiano",
          "Partido Centro Democratico",
          "Partido Liberal Colombiano"
         ],
         "yaxis": "y"
        }
       ],
       "layout": {
        "barmode": "relative",
        "font": {
         "color": "#252525",
         "family": "Roboto"
        },
        "height": 500,
        "legend": {
         "tracegroupgap": 0
        },
        "margin": {
         "b": 0,
         "l": 0,
         "r": 0,
         "t": 0
        },
        "paper_bgcolor": "rgba(0,0,0,0)",
        "plot_bgcolor": "rgba(0,0,0,0)",
        "template": {
         "data": {
          "bar": [
           {
            "error_x": {
             "color": "#2a3f5f"
            },
            "error_y": {
             "color": "#2a3f5f"
            },
            "marker": {
             "line": {
              "color": "#E5ECF6",
              "width": 0.5
             }
            },
            "type": "bar"
           }
          ],
          "barpolar": [
           {
            "marker": {
             "line": {
              "color": "#E5ECF6",
              "width": 0.5
             }
            },
            "type": "barpolar"
           }
          ],
          "carpet": [
           {
            "aaxis": {
             "endlinecolor": "#2a3f5f",
             "gridcolor": "white",
             "linecolor": "white",
             "minorgridcolor": "white",
             "startlinecolor": "#2a3f5f"
            },
            "baxis": {
             "endlinecolor": "#2a3f5f",
             "gridcolor": "white",
             "linecolor": "white",
             "minorgridcolor": "white",
             "startlinecolor": "#2a3f5f"
            },
            "type": "carpet"
           }
          ],
          "choropleth": [
           {
            "colorbar": {
             "outlinewidth": 0,
             "ticks": ""
            },
            "type": "choropleth"
           }
          ],
          "contour": [
           {
            "colorbar": {
             "outlinewidth": 0,
             "ticks": ""
            },
            "colorscale": [
             [
              0,
              "#0d0887"
             ],
             [
              0.1111111111111111,
              "#46039f"
             ],
             [
              0.2222222222222222,
              "#7201a8"
             ],
             [
              0.3333333333333333,
              "#9c179e"
             ],
             [
              0.4444444444444444,
              "#bd3786"
             ],
             [
              0.5555555555555556,
              "#d8576b"
             ],
             [
              0.6666666666666666,
              "#ed7953"
             ],
             [
              0.7777777777777778,
              "#fb9f3a"
             ],
             [
              0.8888888888888888,
              "#fdca26"
             ],
             [
              1,
              "#f0f921"
             ]
            ],
            "type": "contour"
           }
          ],
          "contourcarpet": [
           {
            "colorbar": {
             "outlinewidth": 0,
             "ticks": ""
            },
            "type": "contourcarpet"
           }
          ],
          "heatmap": [
           {
            "colorbar": {
             "outlinewidth": 0,
             "ticks": ""
            },
            "colorscale": [
             [
              0,
              "#0d0887"
             ],
             [
              0.1111111111111111,
              "#46039f"
             ],
             [
              0.2222222222222222,
              "#7201a8"
             ],
             [
              0.3333333333333333,
              "#9c179e"
             ],
             [
              0.4444444444444444,
              "#bd3786"
             ],
             [
              0.5555555555555556,
              "#d8576b"
             ],
             [
              0.6666666666666666,
              "#ed7953"
             ],
             [
              0.7777777777777778,
              "#fb9f3a"
             ],
             [
              0.8888888888888888,
              "#fdca26"
             ],
             [
              1,
              "#f0f921"
             ]
            ],
            "type": "heatmap"
           }
          ],
          "heatmapgl": [
           {
            "colorbar": {
             "outlinewidth": 0,
             "ticks": ""
            },
            "colorscale": [
             [
              0,
              "#0d0887"
             ],
             [
              0.1111111111111111,
              "#46039f"
             ],
             [
              0.2222222222222222,
              "#7201a8"
             ],
             [
              0.3333333333333333,
              "#9c179e"
             ],
             [
              0.4444444444444444,
              "#bd3786"
             ],
             [
              0.5555555555555556,
              "#d8576b"
             ],
             [
              0.6666666666666666,
              "#ed7953"
             ],
             [
              0.7777777777777778,
              "#fb9f3a"
             ],
             [
              0.8888888888888888,
              "#fdca26"
             ],
             [
              1,
              "#f0f921"
             ]
            ],
            "type": "heatmapgl"
           }
          ],
          "histogram": [
           {
            "marker": {
             "colorbar": {
              "outlinewidth": 0,
              "ticks": ""
             }
            },
            "type": "histogram"
           }
          ],
          "histogram2d": [
           {
            "colorbar": {
             "outlinewidth": 0,
             "ticks": ""
            },
            "colorscale": [
             [
              0,
              "#0d0887"
             ],
             [
              0.1111111111111111,
              "#46039f"
             ],
             [
              0.2222222222222222,
              "#7201a8"
             ],
             [
              0.3333333333333333,
              "#9c179e"
             ],
             [
              0.4444444444444444,
              "#bd3786"
             ],
             [
              0.5555555555555556,
              "#d8576b"
             ],
             [
              0.6666666666666666,
              "#ed7953"
             ],
             [
              0.7777777777777778,
              "#fb9f3a"
             ],
             [
              0.8888888888888888,
              "#fdca26"
             ],
             [
              1,
              "#f0f921"
             ]
            ],
            "type": "histogram2d"
           }
          ],
          "histogram2dcontour": [
           {
            "colorbar": {
             "outlinewidth": 0,
             "ticks": ""
            },
            "colorscale": [
             [
              0,
              "#0d0887"
             ],
             [
              0.1111111111111111,
              "#46039f"
             ],
             [
              0.2222222222222222,
              "#7201a8"
             ],
             [
              0.3333333333333333,
              "#9c179e"
             ],
             [
              0.4444444444444444,
              "#bd3786"
             ],
             [
              0.5555555555555556,
              "#d8576b"
             ],
             [
              0.6666666666666666,
              "#ed7953"
             ],
             [
              0.7777777777777778,
              "#fb9f3a"
             ],
             [
              0.8888888888888888,
              "#fdca26"
             ],
             [
              1,
              "#f0f921"
             ]
            ],
            "type": "histogram2dcontour"
           }
          ],
          "mesh3d": [
           {
            "colorbar": {
             "outlinewidth": 0,
             "ticks": ""
            },
            "type": "mesh3d"
           }
          ],
          "parcoords": [
           {
            "line": {
             "colorbar": {
              "outlinewidth": 0,
              "ticks": ""
             }
            },
            "type": "parcoords"
           }
          ],
          "pie": [
           {
            "automargin": true,
            "type": "pie"
           }
          ],
          "scatter": [
           {
            "marker": {
             "colorbar": {
              "outlinewidth": 0,
              "ticks": ""
             }
            },
            "type": "scatter"
           }
          ],
          "scatter3d": [
           {
            "line": {
             "colorbar": {
              "outlinewidth": 0,
              "ticks": ""
             }
            },
            "marker": {
             "colorbar": {
              "outlinewidth": 0,
              "ticks": ""
             }
            },
            "type": "scatter3d"
           }
          ],
          "scattercarpet": [
           {
            "marker": {
             "colorbar": {
              "outlinewidth": 0,
              "ticks": ""
             }
            },
            "type": "scattercarpet"
           }
          ],
          "scattergeo": [
           {
            "marker": {
             "colorbar": {
              "outlinewidth": 0,
              "ticks": ""
             }
            },
            "type": "scattergeo"
           }
          ],
          "scattergl": [
           {
            "marker": {
             "colorbar": {
              "outlinewidth": 0,
              "ticks": ""
             }
            },
            "type": "scattergl"
           }
          ],
          "scattermapbox": [
           {
            "marker": {
             "colorbar": {
              "outlinewidth": 0,
              "ticks": ""
             }
            },
            "type": "scattermapbox"
           }
          ],
          "scatterpolar": [
           {
            "marker": {
             "colorbar": {
              "outlinewidth": 0,
              "ticks": ""
             }
            },
            "type": "scatterpolar"
           }
          ],
          "scatterpolargl": [
           {
            "marker": {
             "colorbar": {
              "outlinewidth": 0,
              "ticks": ""
             }
            },
            "type": "scatterpolargl"
           }
          ],
          "scatterternary": [
           {
            "marker": {
             "colorbar": {
              "outlinewidth": 0,
              "ticks": ""
             }
            },
            "type": "scatterternary"
           }
          ],
          "surface": [
           {
            "colorbar": {
             "outlinewidth": 0,
             "ticks": ""
            },
            "colorscale": [
             [
              0,
              "#0d0887"
             ],
             [
              0.1111111111111111,
              "#46039f"
             ],
             [
              0.2222222222222222,
              "#7201a8"
             ],
             [
              0.3333333333333333,
              "#9c179e"
             ],
             [
              0.4444444444444444,
              "#bd3786"
             ],
             [
              0.5555555555555556,
              "#d8576b"
             ],
             [
              0.6666666666666666,
              "#ed7953"
             ],
             [
              0.7777777777777778,
              "#fb9f3a"
             ],
             [
              0.8888888888888888,
              "#fdca26"
             ],
             [
              1,
              "#f0f921"
             ]
            ],
            "type": "surface"
           }
          ],
          "table": [
           {
            "cells": {
             "fill": {
              "color": "#EBF0F8"
             },
             "line": {
              "color": "white"
             }
            },
            "header": {
             "fill": {
              "color": "#C8D4E3"
             },
             "line": {
              "color": "white"
             }
            },
            "type": "table"
           }
          ]
         },
         "layout": {
          "annotationdefaults": {
           "arrowcolor": "#2a3f5f",
           "arrowhead": 0,
           "arrowwidth": 1
          },
          "coloraxis": {
           "colorbar": {
            "outlinewidth": 0,
            "ticks": ""
           }
          },
          "colorscale": {
           "diverging": [
            [
             0,
             "#8e0152"
            ],
            [
             0.1,
             "#c51b7d"
            ],
            [
             0.2,
             "#de77ae"
            ],
            [
             0.3,
             "#f1b6da"
            ],
            [
             0.4,
             "#fde0ef"
            ],
            [
             0.5,
             "#f7f7f7"
            ],
            [
             0.6,
             "#e6f5d0"
            ],
            [
             0.7,
             "#b8e186"
            ],
            [
             0.8,
             "#7fbc41"
            ],
            [
             0.9,
             "#4d9221"
            ],
            [
             1,
             "#276419"
            ]
           ],
           "sequential": [
            [
             0,
             "#0d0887"
            ],
            [
             0.1111111111111111,
             "#46039f"
            ],
            [
             0.2222222222222222,
             "#7201a8"
            ],
            [
             0.3333333333333333,
             "#9c179e"
            ],
            [
             0.4444444444444444,
             "#bd3786"
            ],
            [
             0.5555555555555556,
             "#d8576b"
            ],
            [
             0.6666666666666666,
             "#ed7953"
            ],
            [
             0.7777777777777778,
             "#fb9f3a"
            ],
            [
             0.8888888888888888,
             "#fdca26"
            ],
            [
             1,
             "#f0f921"
            ]
           ],
           "sequentialminus": [
            [
             0,
             "#0d0887"
            ],
            [
             0.1111111111111111,
             "#46039f"
            ],
            [
             0.2222222222222222,
             "#7201a8"
            ],
            [
             0.3333333333333333,
             "#9c179e"
            ],
            [
             0.4444444444444444,
             "#bd3786"
            ],
            [
             0.5555555555555556,
             "#d8576b"
            ],
            [
             0.6666666666666666,
             "#ed7953"
            ],
            [
             0.7777777777777778,
             "#fb9f3a"
            ],
            [
             0.8888888888888888,
             "#fdca26"
            ],
            [
             1,
             "#f0f921"
            ]
           ]
          },
          "colorway": [
           "#636efa",
           "#EF553B",
           "#00cc96",
           "#ab63fa",
           "#FFA15A",
           "#19d3f3",
           "#FF6692",
           "#B6E880",
           "#FF97FF",
           "#FECB52"
          ],
          "font": {
           "color": "#2a3f5f"
          },
          "geo": {
           "bgcolor": "white",
           "lakecolor": "white",
           "landcolor": "#E5ECF6",
           "showlakes": true,
           "showland": true,
           "subunitcolor": "white"
          },
          "hoverlabel": {
           "align": "left"
          },
          "hovermode": "closest",
          "mapbox": {
           "style": "light"
          },
          "paper_bgcolor": "white",
          "plot_bgcolor": "#E5ECF6",
          "polar": {
           "angularaxis": {
            "gridcolor": "white",
            "linecolor": "white",
            "ticks": ""
           },
           "bgcolor": "#E5ECF6",
           "radialaxis": {
            "gridcolor": "white",
            "linecolor": "white",
            "ticks": ""
           }
          },
          "scene": {
           "xaxis": {
            "backgroundcolor": "#E5ECF6",
            "gridcolor": "white",
            "gridwidth": 2,
            "linecolor": "white",
            "showbackground": true,
            "ticks": "",
            "zerolinecolor": "white"
           },
           "yaxis": {
            "backgroundcolor": "#E5ECF6",
            "gridcolor": "white",
            "gridwidth": 2,
            "linecolor": "white",
            "showbackground": true,
            "ticks": "",
            "zerolinecolor": "white"
           },
           "zaxis": {
            "backgroundcolor": "#E5ECF6",
            "gridcolor": "white",
            "gridwidth": 2,
            "linecolor": "white",
            "showbackground": true,
            "ticks": "",
            "zerolinecolor": "white"
           }
          },
          "shapedefaults": {
           "line": {
            "color": "#2a3f5f"
           }
          },
          "ternary": {
           "aaxis": {
            "gridcolor": "white",
            "linecolor": "white",
            "ticks": ""
           },
           "baxis": {
            "gridcolor": "white",
            "linecolor": "white",
            "ticks": ""
           },
           "bgcolor": "#E5ECF6",
           "caxis": {
            "gridcolor": "white",
            "linecolor": "white",
            "ticks": ""
           }
          },
          "title": {
           "x": 0.05
          },
          "xaxis": {
           "automargin": true,
           "gridcolor": "white",
           "linecolor": "white",
           "ticks": "",
           "title": {
            "standoff": 15
           },
           "zerolinecolor": "white",
           "zerolinewidth": 2
          },
          "yaxis": {
           "automargin": true,
           "gridcolor": "white",
           "linecolor": "white",
           "ticks": "",
           "title": {
            "standoff": 15
           },
           "zerolinecolor": "white",
           "zerolinewidth": 2
          }
         }
        },
        "xaxis": {
         "anchor": "y",
         "domain": [
          0,
          1
         ],
         "title": {
          "text": "Numero de contratos asignados a financiadores"
         }
        },
        "yaxis": {
         "anchor": "x",
         "domain": [
          0,
          1
         ],
         "title": {
          "text": ""
         }
        }
       }
      },
      "text/html": [
       "<div>\n",
       "        \n",
       "        \n",
       "            <div id=\"7b660c04-2019-40cc-8dd8-d38d8e2f30b0\" class=\"plotly-graph-div\" style=\"height:500px; width:100%;\"></div>\n",
       "            <script type=\"text/javascript\">\n",
       "                require([\"plotly\"], function(Plotly) {\n",
       "                    window.PLOTLYENV=window.PLOTLYENV || {};\n",
       "                    \n",
       "                if (document.getElementById(\"7b660c04-2019-40cc-8dd8-d38d8e2f30b0\")) {\n",
       "                    Plotly.newPlot(\n",
       "                        '7b660c04-2019-40cc-8dd8-d38d8e2f30b0',\n",
       "                        [{\"alignmentgroup\": \"True\", \"hovertemplate\": \"Num contratos=%{x}<br>Organizaci\\u00f3n Pol\\u00edtica=%{y}<extra></extra>\", \"legendgroup\": \"\", \"marker\": {\"color\": \"#636efa\"}, \"name\": \"\", \"offsetgroup\": \"\", \"orientation\": \"h\", \"showlegend\": false, \"textposition\": \"auto\", \"type\": \"bar\", \"x\": [24, 25, 30, 35, 38, 49, 61, 101, 115, 143], \"xaxis\": \"x\", \"y\": [\"Recuperemos Bogota\", \"Bogota Adelante\", \"Gran Alianza Por Medell\\u00edn\", \"Partido Opcion Ciudadana\", \"Partido Cambio Radical\", \"Partido Alianza Verde\", \"Centro Democratico\", \"Partido Conservador Colombiano\", \"Partido Centro Democratico\", \"Partido Liberal Colombiano\"], \"yaxis\": \"y\"}],\n",
       "                        {\"barmode\": \"relative\", \"font\": {\"color\": \"#252525\", \"family\": \"Roboto\"}, \"height\": 500, \"legend\": {\"tracegroupgap\": 0}, \"margin\": {\"b\": 0, \"l\": 0, \"r\": 0, \"t\": 0}, \"paper_bgcolor\": \"rgba(0,0,0,0)\", \"plot_bgcolor\": \"rgba(0,0,0,0)\", \"template\": {\"data\": {\"bar\": [{\"error_x\": {\"color\": \"#2a3f5f\"}, \"error_y\": {\"color\": \"#2a3f5f\"}, \"marker\": {\"line\": {\"color\": \"#E5ECF6\", \"width\": 0.5}}, \"type\": \"bar\"}], \"barpolar\": [{\"marker\": {\"line\": {\"color\": \"#E5ECF6\", \"width\": 0.5}}, \"type\": \"barpolar\"}], \"carpet\": [{\"aaxis\": {\"endlinecolor\": \"#2a3f5f\", \"gridcolor\": \"white\", \"linecolor\": \"white\", \"minorgridcolor\": \"white\", \"startlinecolor\": \"#2a3f5f\"}, \"baxis\": {\"endlinecolor\": \"#2a3f5f\", \"gridcolor\": \"white\", \"linecolor\": \"white\", \"minorgridcolor\": \"white\", \"startlinecolor\": \"#2a3f5f\"}, \"type\": \"carpet\"}], \"choropleth\": [{\"colorbar\": {\"outlinewidth\": 0, \"ticks\": \"\"}, \"type\": \"choropleth\"}], \"contour\": [{\"colorbar\": {\"outlinewidth\": 0, \"ticks\": \"\"}, \"colorscale\": [[0.0, \"#0d0887\"], [0.1111111111111111, \"#46039f\"], [0.2222222222222222, \"#7201a8\"], [0.3333333333333333, \"#9c179e\"], [0.4444444444444444, \"#bd3786\"], [0.5555555555555556, \"#d8576b\"], [0.6666666666666666, \"#ed7953\"], [0.7777777777777778, \"#fb9f3a\"], [0.8888888888888888, \"#fdca26\"], [1.0, \"#f0f921\"]], \"type\": \"contour\"}], \"contourcarpet\": [{\"colorbar\": {\"outlinewidth\": 0, \"ticks\": \"\"}, \"type\": \"contourcarpet\"}], \"heatmap\": [{\"colorbar\": {\"outlinewidth\": 0, \"ticks\": \"\"}, \"colorscale\": [[0.0, \"#0d0887\"], [0.1111111111111111, \"#46039f\"], [0.2222222222222222, \"#7201a8\"], [0.3333333333333333, \"#9c179e\"], [0.4444444444444444, \"#bd3786\"], [0.5555555555555556, \"#d8576b\"], [0.6666666666666666, \"#ed7953\"], [0.7777777777777778, \"#fb9f3a\"], [0.8888888888888888, \"#fdca26\"], [1.0, \"#f0f921\"]], \"type\": \"heatmap\"}], \"heatmapgl\": [{\"colorbar\": {\"outlinewidth\": 0, \"ticks\": \"\"}, \"colorscale\": [[0.0, \"#0d0887\"], [0.1111111111111111, \"#46039f\"], [0.2222222222222222, \"#7201a8\"], [0.3333333333333333, \"#9c179e\"], [0.4444444444444444, \"#bd3786\"], [0.5555555555555556, \"#d8576b\"], [0.6666666666666666, \"#ed7953\"], [0.7777777777777778, \"#fb9f3a\"], [0.8888888888888888, \"#fdca26\"], [1.0, \"#f0f921\"]], \"type\": \"heatmapgl\"}], \"histogram\": [{\"marker\": {\"colorbar\": {\"outlinewidth\": 0, \"ticks\": \"\"}}, \"type\": \"histogram\"}], \"histogram2d\": [{\"colorbar\": {\"outlinewidth\": 0, \"ticks\": \"\"}, \"colorscale\": [[0.0, \"#0d0887\"], [0.1111111111111111, \"#46039f\"], [0.2222222222222222, \"#7201a8\"], [0.3333333333333333, \"#9c179e\"], [0.4444444444444444, \"#bd3786\"], [0.5555555555555556, \"#d8576b\"], [0.6666666666666666, \"#ed7953\"], [0.7777777777777778, \"#fb9f3a\"], [0.8888888888888888, \"#fdca26\"], [1.0, \"#f0f921\"]], \"type\": \"histogram2d\"}], \"histogram2dcontour\": [{\"colorbar\": {\"outlinewidth\": 0, \"ticks\": \"\"}, \"colorscale\": [[0.0, \"#0d0887\"], [0.1111111111111111, \"#46039f\"], [0.2222222222222222, \"#7201a8\"], [0.3333333333333333, \"#9c179e\"], [0.4444444444444444, \"#bd3786\"], [0.5555555555555556, \"#d8576b\"], [0.6666666666666666, \"#ed7953\"], [0.7777777777777778, \"#fb9f3a\"], [0.8888888888888888, \"#fdca26\"], [1.0, \"#f0f921\"]], \"type\": \"histogram2dcontour\"}], \"mesh3d\": [{\"colorbar\": {\"outlinewidth\": 0, \"ticks\": \"\"}, \"type\": \"mesh3d\"}], \"parcoords\": [{\"line\": {\"colorbar\": {\"outlinewidth\": 0, \"ticks\": \"\"}}, \"type\": \"parcoords\"}], \"pie\": [{\"automargin\": true, \"type\": \"pie\"}], \"scatter\": [{\"marker\": {\"colorbar\": {\"outlinewidth\": 0, \"ticks\": \"\"}}, \"type\": \"scatter\"}], \"scatter3d\": [{\"line\": {\"colorbar\": {\"outlinewidth\": 0, \"ticks\": \"\"}}, \"marker\": {\"colorbar\": {\"outlinewidth\": 0, \"ticks\": \"\"}}, \"type\": \"scatter3d\"}], \"scattercarpet\": [{\"marker\": {\"colorbar\": {\"outlinewidth\": 0, \"ticks\": \"\"}}, \"type\": \"scattercarpet\"}], \"scattergeo\": [{\"marker\": {\"colorbar\": {\"outlinewidth\": 0, \"ticks\": \"\"}}, \"type\": \"scattergeo\"}], \"scattergl\": [{\"marker\": {\"colorbar\": {\"outlinewidth\": 0, \"ticks\": \"\"}}, \"type\": \"scattergl\"}], \"scattermapbox\": [{\"marker\": {\"colorbar\": {\"outlinewidth\": 0, \"ticks\": \"\"}}, \"type\": \"scattermapbox\"}], \"scatterpolar\": [{\"marker\": {\"colorbar\": {\"outlinewidth\": 0, \"ticks\": \"\"}}, \"type\": \"scatterpolar\"}], \"scatterpolargl\": [{\"marker\": {\"colorbar\": {\"outlinewidth\": 0, \"ticks\": \"\"}}, \"type\": \"scatterpolargl\"}], \"scatterternary\": [{\"marker\": {\"colorbar\": {\"outlinewidth\": 0, \"ticks\": \"\"}}, \"type\": \"scatterternary\"}], \"surface\": [{\"colorbar\": {\"outlinewidth\": 0, \"ticks\": \"\"}, \"colorscale\": [[0.0, \"#0d0887\"], [0.1111111111111111, \"#46039f\"], [0.2222222222222222, \"#7201a8\"], [0.3333333333333333, \"#9c179e\"], [0.4444444444444444, \"#bd3786\"], [0.5555555555555556, \"#d8576b\"], [0.6666666666666666, \"#ed7953\"], [0.7777777777777778, \"#fb9f3a\"], [0.8888888888888888, \"#fdca26\"], [1.0, \"#f0f921\"]], \"type\": \"surface\"}], \"table\": [{\"cells\": {\"fill\": {\"color\": \"#EBF0F8\"}, \"line\": {\"color\": \"white\"}}, \"header\": {\"fill\": {\"color\": \"#C8D4E3\"}, \"line\": {\"color\": \"white\"}}, \"type\": \"table\"}]}, \"layout\": {\"annotationdefaults\": {\"arrowcolor\": \"#2a3f5f\", \"arrowhead\": 0, \"arrowwidth\": 1}, \"coloraxis\": {\"colorbar\": {\"outlinewidth\": 0, \"ticks\": \"\"}}, \"colorscale\": {\"diverging\": [[0, \"#8e0152\"], [0.1, \"#c51b7d\"], [0.2, \"#de77ae\"], [0.3, \"#f1b6da\"], [0.4, \"#fde0ef\"], [0.5, \"#f7f7f7\"], [0.6, \"#e6f5d0\"], [0.7, \"#b8e186\"], [0.8, \"#7fbc41\"], [0.9, \"#4d9221\"], [1, \"#276419\"]], \"sequential\": [[0.0, \"#0d0887\"], [0.1111111111111111, \"#46039f\"], [0.2222222222222222, \"#7201a8\"], [0.3333333333333333, \"#9c179e\"], [0.4444444444444444, \"#bd3786\"], [0.5555555555555556, \"#d8576b\"], [0.6666666666666666, \"#ed7953\"], [0.7777777777777778, \"#fb9f3a\"], [0.8888888888888888, \"#fdca26\"], [1.0, \"#f0f921\"]], \"sequentialminus\": [[0.0, \"#0d0887\"], [0.1111111111111111, \"#46039f\"], [0.2222222222222222, \"#7201a8\"], [0.3333333333333333, \"#9c179e\"], [0.4444444444444444, \"#bd3786\"], [0.5555555555555556, \"#d8576b\"], [0.6666666666666666, \"#ed7953\"], [0.7777777777777778, \"#fb9f3a\"], [0.8888888888888888, \"#fdca26\"], [1.0, \"#f0f921\"]]}, \"colorway\": [\"#636efa\", \"#EF553B\", \"#00cc96\", \"#ab63fa\", \"#FFA15A\", \"#19d3f3\", \"#FF6692\", \"#B6E880\", \"#FF97FF\", \"#FECB52\"], \"font\": {\"color\": \"#2a3f5f\"}, \"geo\": {\"bgcolor\": \"white\", \"lakecolor\": \"white\", \"landcolor\": \"#E5ECF6\", \"showlakes\": true, \"showland\": true, \"subunitcolor\": \"white\"}, \"hoverlabel\": {\"align\": \"left\"}, \"hovermode\": \"closest\", \"mapbox\": {\"style\": \"light\"}, \"paper_bgcolor\": \"white\", \"plot_bgcolor\": \"#E5ECF6\", \"polar\": {\"angularaxis\": {\"gridcolor\": \"white\", \"linecolor\": \"white\", \"ticks\": \"\"}, \"bgcolor\": \"#E5ECF6\", \"radialaxis\": {\"gridcolor\": \"white\", \"linecolor\": \"white\", \"ticks\": \"\"}}, \"scene\": {\"xaxis\": {\"backgroundcolor\": \"#E5ECF6\", \"gridcolor\": \"white\", \"gridwidth\": 2, \"linecolor\": \"white\", \"showbackground\": true, \"ticks\": \"\", \"zerolinecolor\": \"white\"}, \"yaxis\": {\"backgroundcolor\": \"#E5ECF6\", \"gridcolor\": \"white\", \"gridwidth\": 2, \"linecolor\": \"white\", \"showbackground\": true, \"ticks\": \"\", \"zerolinecolor\": \"white\"}, \"zaxis\": {\"backgroundcolor\": \"#E5ECF6\", \"gridcolor\": \"white\", \"gridwidth\": 2, \"linecolor\": \"white\", \"showbackground\": true, \"ticks\": \"\", \"zerolinecolor\": \"white\"}}, \"shapedefaults\": {\"line\": {\"color\": \"#2a3f5f\"}}, \"ternary\": {\"aaxis\": {\"gridcolor\": \"white\", \"linecolor\": \"white\", \"ticks\": \"\"}, \"baxis\": {\"gridcolor\": \"white\", \"linecolor\": \"white\", \"ticks\": \"\"}, \"bgcolor\": \"#E5ECF6\", \"caxis\": {\"gridcolor\": \"white\", \"linecolor\": \"white\", \"ticks\": \"\"}}, \"title\": {\"x\": 0.05}, \"xaxis\": {\"automargin\": true, \"gridcolor\": \"white\", \"linecolor\": \"white\", \"ticks\": \"\", \"title\": {\"standoff\": 15}, \"zerolinecolor\": \"white\", \"zerolinewidth\": 2}, \"yaxis\": {\"automargin\": true, \"gridcolor\": \"white\", \"linecolor\": \"white\", \"ticks\": \"\", \"title\": {\"standoff\": 15}, \"zerolinecolor\": \"white\", \"zerolinewidth\": 2}}}, \"xaxis\": {\"anchor\": \"y\", \"domain\": [0.0, 1.0], \"title\": {\"text\": \"Numero de contratos asignados a financiadores\"}}, \"yaxis\": {\"anchor\": \"x\", \"domain\": [0.0, 1.0], \"title\": {\"text\": \"\"}}},\n",
       "                        {\"responsive\": true}\n",
       "                    ).then(function(){\n",
       "                            \n",
       "var gd = document.getElementById('7b660c04-2019-40cc-8dd8-d38d8e2f30b0');\n",
       "var x = new MutationObserver(function (mutations, observer) {{\n",
       "        var display = window.getComputedStyle(gd).display;\n",
       "        if (!display || display === 'none') {{\n",
       "            console.log([gd, 'removed!']);\n",
       "            Plotly.purge(gd);\n",
       "            observer.disconnect();\n",
       "        }}\n",
       "}});\n",
       "\n",
       "// Listen for the removal of the full notebook cells\n",
       "var notebookContainer = gd.closest('#notebook-container');\n",
       "if (notebookContainer) {{\n",
       "    x.observe(notebookContainer, {childList: true});\n",
       "}}\n",
       "\n",
       "// Listen for the clearing of the current output cell\n",
       "var outputEl = gd.closest('.output');\n",
       "if (outputEl) {{\n",
       "    x.observe(outputEl, {childList: true});\n",
       "}}\n",
       "\n",
       "                        })\n",
       "                };\n",
       "                });\n",
       "            </script>\n",
       "        </div>"
      ]
     },
     "metadata": {},
     "output_type": "display_data"
    }
   ],
   "source": [
    "graph_f_df = df_financiacion.groupby(['Organización Política']).size().reset_index(name='Num contratos')\n",
    "graph_f_df = graph_f_df.sort_values(by='Num contratos')\n",
    "graph_f_df = graph_f_df.iloc[-11:-1,:]\n",
    "\n",
    "fig = px.bar(graph_f_df, x=\"Num contratos\", y=\"Organización Política\", orientation='h',\n",
    "             height=500)\n",
    "fig.update_layout(\n",
    "    font=dict(\n",
    "        color=\"#252525\",\n",
    "        family=\"Roboto\"\n",
    "    ),\n",
    "    paper_bgcolor='rgba(0,0,0,0)',\n",
    "    plot_bgcolor='rgba(0,0,0,0)',\n",
    "    xaxis_title=\"Numero de contratos asignados a financiadores\",\n",
    "    yaxis_title='',\n",
    "    margin={\"r\":0,\"t\":0,\"l\":0,\"b\":0}\n",
    ")\n",
    "fig.show()"
   ]
  },
  {
   "cell_type": "markdown",
   "metadata": {},
   "source": [
    "# 3. Concentración contratistas"
   ]
  },
  {
   "cell_type": "code",
   "execution_count": 91,
   "metadata": {},
   "outputs": [
    {
     "data": {
      "text/html": [
       "<div>\n",
       "<style scoped>\n",
       "    .dataframe tbody tr th:only-of-type {\n",
       "        vertical-align: middle;\n",
       "    }\n",
       "\n",
       "    .dataframe tbody tr th {\n",
       "        vertical-align: top;\n",
       "    }\n",
       "\n",
       "    .dataframe thead th {\n",
       "        text-align: right;\n",
       "    }\n",
       "</style>\n",
       "<table border=\"1\" class=\"dataframe\">\n",
       "  <thead>\n",
       "    <tr style=\"text-align: right;\">\n",
       "      <th></th>\n",
       "      <th>Unnamed: 0</th>\n",
       "      <th>departamento_def</th>\n",
       "      <th>contratista_ids</th>\n",
       "      <th>val_contratista</th>\n",
       "      <th>val_depto</th>\n",
       "      <th>pct_def</th>\n",
       "    </tr>\n",
       "  </thead>\n",
       "  <tbody>\n",
       "    <tr>\n",
       "      <th>0</th>\n",
       "      <td>2</td>\n",
       "      <td>amazonas</td>\n",
       "      <td>7634220</td>\n",
       "      <td>19000000.0</td>\n",
       "      <td>2.301949e+09</td>\n",
       "      <td>0.825388</td>\n",
       "    </tr>\n",
       "    <tr>\n",
       "      <th>1</th>\n",
       "      <td>3</td>\n",
       "      <td>amazonas</td>\n",
       "      <td>15877822</td>\n",
       "      <td>419815500.0</td>\n",
       "      <td>2.301949e+09</td>\n",
       "      <td>18.237393</td>\n",
       "    </tr>\n",
       "    <tr>\n",
       "      <th>2</th>\n",
       "      <td>4</td>\n",
       "      <td>amazonas</td>\n",
       "      <td>17625757</td>\n",
       "      <td>25200000.0</td>\n",
       "      <td>2.301949e+09</td>\n",
       "      <td>1.094724</td>\n",
       "    </tr>\n",
       "    <tr>\n",
       "      <th>3</th>\n",
       "      <td>5</td>\n",
       "      <td>amazonas</td>\n",
       "      <td>100292219</td>\n",
       "      <td>10112000.0</td>\n",
       "      <td>2.301949e+09</td>\n",
       "      <td>0.439280</td>\n",
       "    </tr>\n",
       "    <tr>\n",
       "      <th>4</th>\n",
       "      <td>6</td>\n",
       "      <td>amazonas</td>\n",
       "      <td>112120308</td>\n",
       "      <td>6300000.0</td>\n",
       "      <td>2.301949e+09</td>\n",
       "      <td>0.273681</td>\n",
       "    </tr>\n",
       "    <tr>\n",
       "      <th>...</th>\n",
       "      <td>...</td>\n",
       "      <td>...</td>\n",
       "      <td>...</td>\n",
       "      <td>...</td>\n",
       "      <td>...</td>\n",
       "      <td>...</td>\n",
       "    </tr>\n",
       "    <tr>\n",
       "      <th>15138</th>\n",
       "      <td>15232</td>\n",
       "      <td>vichada</td>\n",
       "      <td>900283540</td>\n",
       "      <td>11226500.0</td>\n",
       "      <td>1.142489e+09</td>\n",
       "      <td>0.982635</td>\n",
       "    </tr>\n",
       "    <tr>\n",
       "      <th>15139</th>\n",
       "      <td>15233</td>\n",
       "      <td>vichada</td>\n",
       "      <td>900351693</td>\n",
       "      <td>10408983.0</td>\n",
       "      <td>1.142489e+09</td>\n",
       "      <td>0.911080</td>\n",
       "    </tr>\n",
       "    <tr>\n",
       "      <th>15140</th>\n",
       "      <td>15234</td>\n",
       "      <td>vichada</td>\n",
       "      <td>900484765</td>\n",
       "      <td>15000000.0</td>\n",
       "      <td>1.142489e+09</td>\n",
       "      <td>1.312923</td>\n",
       "    </tr>\n",
       "    <tr>\n",
       "      <th>15141</th>\n",
       "      <td>15235</td>\n",
       "      <td>vichada</td>\n",
       "      <td>900487314</td>\n",
       "      <td>72000000.0</td>\n",
       "      <td>1.142489e+09</td>\n",
       "      <td>6.302031</td>\n",
       "    </tr>\n",
       "    <tr>\n",
       "      <th>15142</th>\n",
       "      <td>15236</td>\n",
       "      <td>vichada</td>\n",
       "      <td>900726468</td>\n",
       "      <td>38520077.0</td>\n",
       "      <td>1.142489e+09</td>\n",
       "      <td>3.371593</td>\n",
       "    </tr>\n",
       "  </tbody>\n",
       "</table>\n",
       "<p>15143 rows × 6 columns</p>\n",
       "</div>"
      ],
      "text/plain": [
       "       Unnamed: 0 departamento_def contratista_ids  val_contratista  \\\n",
       "0               2         amazonas         7634220       19000000.0   \n",
       "1               3         amazonas        15877822      419815500.0   \n",
       "2               4         amazonas        17625757       25200000.0   \n",
       "3               5         amazonas       100292219       10112000.0   \n",
       "4               6         amazonas       112120308        6300000.0   \n",
       "...           ...              ...             ...              ...   \n",
       "15138       15232          vichada       900283540       11226500.0   \n",
       "15139       15233          vichada       900351693       10408983.0   \n",
       "15140       15234          vichada       900484765       15000000.0   \n",
       "15141       15235          vichada       900487314       72000000.0   \n",
       "15142       15236          vichada       900726468       38520077.0   \n",
       "\n",
       "          val_depto    pct_def  \n",
       "0      2.301949e+09   0.825388  \n",
       "1      2.301949e+09  18.237393  \n",
       "2      2.301949e+09   1.094724  \n",
       "3      2.301949e+09   0.439280  \n",
       "4      2.301949e+09   0.273681  \n",
       "...             ...        ...  \n",
       "15138  1.142489e+09   0.982635  \n",
       "15139  1.142489e+09   0.911080  \n",
       "15140  1.142489e+09   1.312923  \n",
       "15141  1.142489e+09   6.302031  \n",
       "15142  1.142489e+09   3.371593  \n",
       "\n",
       "[15143 rows x 6 columns]"
      ]
     },
     "execution_count": 91,
     "metadata": {},
     "output_type": "execute_result"
    }
   ],
   "source": [
    "concentracion = pd.read_csv('s3://proyectocanopy/alarma_concentracion_valor_contratistas.csv')\n",
    "concentracion"
   ]
  },
  {
   "cell_type": "code",
   "execution_count": null,
   "metadata": {},
   "outputs": [],
   "source": []
  }
 ],
 "metadata": {
  "kernelspec": {
   "display_name": "canopy_3",
   "language": "python",
   "name": "canopy_3"
  },
  "language_info": {
   "codemirror_mode": {
    "name": "ipython",
    "version": 3
   },
   "file_extension": ".py",
   "mimetype": "text/x-python",
   "name": "python",
   "nbconvert_exporter": "python",
   "pygments_lexer": "ipython3",
   "version": "3.7.8"
  }
 },
 "nbformat": 4,
 "nbformat_minor": 4
}
